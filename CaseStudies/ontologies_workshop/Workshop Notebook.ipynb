{
 "cells": [
  {
   "attachments": {},
   "cell_type": "markdown",
   "metadata": {},
   "source": [
    "# Ontologies Workshop\n",
    "\n"
   ]
  },
  {
   "cell_type": "markdown",
   "metadata": {},
   "source": [
    "## Connecting"
   ]
  },
  {
   "cell_type": "code",
   "execution_count": 8,
   "metadata": {},
   "outputs": [
    {
     "data": {
      "text/plain": [
       "<azure.digitaltwins.core._digitaltwins_client.DigitalTwinsClient at 0x2163b32a3c8>"
      ]
     },
     "execution_count": 8,
     "metadata": {},
     "output_type": "execute_result"
    }
   ],
   "source": [
    "from azure.identity import ClientSecretCredential \n",
    "from azure.digitaltwins.core import DigitalTwinsClient\n",
    "\n",
    "# using yaml instead of \n",
    "import yaml\n",
    "import uuid\n",
    "\n",
    "# using altair instead of matplotlib for vizuals\n",
    "import altair as alt\n",
    "import numpy as np\n",
    "import pandas as pd\n",
    "\n",
    "\n",
    "\n",
    "\n",
    "params = yaml.safe_load(open('../../config.yml'))\n",
    "tenantId = params['tenantId']\n",
    "clientId = params['clientId']\n",
    "clientSecret = params['clientSecret']\n",
    "\n",
    "azure_cred = ClientSecretCredential(tenantId, clientId, clientSecret)\n",
    "service_client = DigitalTwinsClient(\n",
    "    params[\"ADT_HOST_NAME\"], azure_cred)\n",
    "service_client"
   ]
  },
  {
   "cell_type": "code",
   "execution_count": 9,
   "metadata": {},
   "outputs": [
    {
     "data": {
      "text/plain": [
       "{'display_name': {'en': 'Tank'},\n",
       " 'description': {'en': 'a tank for holding fluid'},\n",
       " 'id': 'dtmi:billmanh:tank;1',\n",
       " 'upload_time': '2022-11-27T23:26:33.017561Z',\n",
       " 'decommissioned': False}"
      ]
     },
     "execution_count": 9,
     "metadata": {},
     "output_type": "execute_result"
    }
   ],
   "source": [
    "# Get the Patron model\n",
    "get_model = service_client.get_model(\"dtmi:billmanh:tank;1\")\n",
    "get_model.as_dict()"
   ]
  },
  {
   "cell_type": "code",
   "execution_count": 11,
   "metadata": {},
   "outputs": [
    {
     "data": {
      "text/plain": [
       "<iterator object azure.core.paging.ItemPaged at 0x2163b3315f8>"
      ]
     },
     "execution_count": 11,
     "metadata": {},
     "output_type": "execute_result"
    }
   ],
   "source": [
    "query_expression = \"SELECT * FROM digitaltwins t where IS_OF_MODEL('dtmi:billmanh:tank;1')\"\n",
    "query_result = service_client.query_twins(query_expression)\n",
    "query_result"
   ]
  },
  {
   "cell_type": "code",
   "execution_count": 12,
   "metadata": {},
   "outputs": [],
   "source": [
    "values = []\n",
    "for i in query_result:\n",
    "    values.append(i)"
   ]
  },
  {
   "cell_type": "code",
   "execution_count": 14,
   "metadata": {},
   "outputs": [
    {
     "data": {
      "text/html": [
       "<div>\n",
       "<style scoped>\n",
       "    .dataframe tbody tr th:only-of-type {\n",
       "        vertical-align: middle;\n",
       "    }\n",
       "\n",
       "    .dataframe tbody tr th {\n",
       "        vertical-align: top;\n",
       "    }\n",
       "\n",
       "    .dataframe thead th {\n",
       "        text-align: right;\n",
       "    }\n",
       "</style>\n",
       "<table border=\"1\" class=\"dataframe\">\n",
       "  <thead>\n",
       "    <tr style=\"text-align: right;\">\n",
       "      <th></th>\n",
       "      <th>$dtId</th>\n",
       "      <th>$etag</th>\n",
       "      <th>name</th>\n",
       "      <th>manufacturer</th>\n",
       "      <th>model_no</th>\n",
       "      <th>diameter</th>\n",
       "      <th>volume</th>\n",
       "      <th>lat</th>\n",
       "      <th>long</th>\n",
       "      <th>elevation</th>\n",
       "      <th>$metadata</th>\n",
       "    </tr>\n",
       "  </thead>\n",
       "  <tbody>\n",
       "    <tr>\n",
       "      <th>0</th>\n",
       "      <td>tank74c0258f-2af8-4a62-95ba-f7a9803e47bd</td>\n",
       "      <td>W/\"f9b6fe55-e5da-4bc9-bc4d-bf0d2b0301f7\"</td>\n",
       "      <td>large_tank</td>\n",
       "      <td>ACME</td>\n",
       "      <td>1234</td>\n",
       "      <td>500</td>\n",
       "      <td>500.0</td>\n",
       "      <td>0</td>\n",
       "      <td>0</td>\n",
       "      <td>0</td>\n",
       "      <td>{'$model': 'dtmi:billmanh:tank;1', 'name': {'l...</td>\n",
       "    </tr>\n",
       "    <tr>\n",
       "      <th>1</th>\n",
       "      <td>tankdcd691eb-b335-420d-87f3-d5c3bb3fe2d4</td>\n",
       "      <td>W/\"0520ae1d-ae64-418f-90ce-71408a312fb9\"</td>\n",
       "      <td>small_tank</td>\n",
       "      <td>ACME</td>\n",
       "      <td>1234</td>\n",
       "      <td>100</td>\n",
       "      <td>200.0</td>\n",
       "      <td>0</td>\n",
       "      <td>0</td>\n",
       "      <td>0</td>\n",
       "      <td>{'$model': 'dtmi:billmanh:tank;1', 'name': {'l...</td>\n",
       "    </tr>\n",
       "  </tbody>\n",
       "</table>\n",
       "</div>"
      ],
      "text/plain": [
       "                                      $dtId  \\\n",
       "0  tank74c0258f-2af8-4a62-95ba-f7a9803e47bd   \n",
       "1  tankdcd691eb-b335-420d-87f3-d5c3bb3fe2d4   \n",
       "\n",
       "                                      $etag        name manufacturer  \\\n",
       "0  W/\"f9b6fe55-e5da-4bc9-bc4d-bf0d2b0301f7\"  large_tank         ACME   \n",
       "1  W/\"0520ae1d-ae64-418f-90ce-71408a312fb9\"  small_tank         ACME   \n",
       "\n",
       "   model_no  diameter  volume  lat  long  elevation  \\\n",
       "0      1234       500   500.0    0     0          0   \n",
       "1      1234       100   200.0    0     0          0   \n",
       "\n",
       "                                           $metadata  \n",
       "0  {'$model': 'dtmi:billmanh:tank;1', 'name': {'l...  \n",
       "1  {'$model': 'dtmi:billmanh:tank;1', 'name': {'l...  "
      ]
     },
     "execution_count": 14,
     "metadata": {},
     "output_type": "execute_result"
    }
   ],
   "source": [
    "pd.DataFrame(values)"
   ]
  },
  {
   "cell_type": "code",
   "execution_count": null,
   "metadata": {},
   "outputs": [],
   "source": []
  }
 ],
 "metadata": {
  "kernelspec": {
   "display_name": "Python 3.7.0 ('azure-iot')",
   "language": "python",
   "name": "python3"
  },
  "language_info": {
   "codemirror_mode": {
    "name": "ipython",
    "version": 3
   },
   "file_extension": ".py",
   "mimetype": "text/x-python",
   "name": "python",
   "nbconvert_exporter": "python",
   "pygments_lexer": "ipython3",
   "version": "3.7.0"
  },
  "vscode": {
   "interpreter": {
    "hash": "f7c09646ecb08b877d824c67655aa2288de2553139c17e14fe802eab305f520a"
   }
  }
 },
 "nbformat": 4,
 "nbformat_minor": 4
}

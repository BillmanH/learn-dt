{
 "cells": [
  {
   "cell_type": "markdown",
   "metadata": {},
   "source": [
    "# Uploading the Models an Creating Twins\n",
    "This model is intentionally tiny to display the simulation and change capabilities. Unlike the last example, we'll update all of the models and twins in one notebook. Then we can go to the simulation part. \n",
    "\n"
   ]
  },
  {
   "cell_type": "markdown",
   "metadata": {},
   "source": [
    "![Alt text](/docs/img/pipes_n_tanks.png?raw=true \"pipes and tanks\")"
   ]
  },
  {
   "cell_type": "markdown",
   "metadata": {},
   "source": [
    "## Connecting"
   ]
  },
  {
   "cell_type": "code",
   "execution_count": 42,
   "metadata": {},
   "outputs": [
    {
     "data": {
      "text/plain": [
       "<azure.digitaltwins.core._digitaltwins_client.DigitalTwinsClient at 0x231edfe86d8>"
      ]
     },
     "execution_count": 42,
     "metadata": {},
     "output_type": "execute_result"
    }
   ],
   "source": [
    "from azure.identity import AzureCliCredential\n",
    "from azure.digitaltwins.core import DigitalTwinsClient\n",
    "\n",
    "# using yaml instead of \n",
    "import yaml\n",
    "import uuid\n",
    "\n",
    "# using altair instead of matplotlib for vizuals\n",
    "import altair as alt\n",
    "import numpy as np\n",
    "import pandas as pd\n",
    "\n",
    "\n",
    "\n",
    "\n",
    "params = yaml.safe_load(open('../../config.yml'))\n",
    "\n",
    "azure_cli = AzureCliCredential()\n",
    "service_client = DigitalTwinsClient(\n",
    "    params[\"ADT_HOST_NAME\"], azure_cli)\n",
    "service_client"
   ]
  },
  {
   "cell_type": "markdown",
   "metadata": {},
   "source": [
    "Loading the model from a local Json file, I'm defining a model for a `Patron`. That's like a `class` that will be used to make several instances of a customer."
   ]
  },
  {
   "cell_type": "markdown",
   "metadata": {},
   "source": [
    "## Uploading models"
   ]
  },
  {
   "cell_type": "code",
   "execution_count": 43,
   "metadata": {},
   "outputs": [
    {
     "data": {
      "text/plain": [
       "[{'@id': 'dtmi:com:adt:dtsample:equipment;1',\n",
       "  '@type': 'Interface',\n",
       "  '@context': 'dtmi:dtdl:context;2',\n",
       "  'displayName': 'equipment',\n",
       "  'contents': [{'@type': 'Property',\n",
       "    'name': 'model_no',\n",
       "    'displayName': 'Model No.',\n",
       "    'schema': 'double',\n",
       "    'comment': 'model number of the equempent'},\n",
       "   {'@type': 'Property', 'name': 'name', 'schema': 'string'},\n",
       "   {'@type': 'Property',\n",
       "    'name': 'manufacturer',\n",
       "    'displayName': 'Manufacturer',\n",
       "    'schema': 'string',\n",
       "    'comment': 'name of the vendor or manufacturer'}]},\n",
       " {'@id': 'dtmi:billmanh:pipe;1',\n",
       "  '@type': 'Interface',\n",
       "  'displayName': 'Pipe',\n",
       "  'extends': 'dtmi:com:adt:dtsample:equipment;1',\n",
       "  'contents': [{'@type': 'Property',\n",
       "    'name': 'diameter',\n",
       "    'displayName': 'diameter (cm)',\n",
       "    'schema': 'double',\n",
       "    'comment': 'diameter at center of the tank in centimeters'},\n",
       "   {'@type': 'Property',\n",
       "    'name': 'valve',\n",
       "    'displayName': 'valve (pct)',\n",
       "    'schema': 'double',\n",
       "    'comment': 'percent of the valve that is currently open (1=open,0=closed)'},\n",
       "   {'@type': 'Property',\n",
       "    'name': 'capacity',\n",
       "    'displayName': 'capacity (l)',\n",
       "    'schema': 'double',\n",
       "    'comment': 'total throughput of the pipe when the valve is open (valve=1)'},\n",
       "   {'@type': 'Property',\n",
       "    'name': 'lat',\n",
       "    'displayName': 'latitude',\n",
       "    'schema': 'double',\n",
       "    'comment': 'latitude of the place where item is located (can be used as offset x from the center aka x,y,z=0,0,0)'},\n",
       "   {'@type': 'Property',\n",
       "    'name': 'long',\n",
       "    'displayName': 'logitude',\n",
       "    'schema': 'double',\n",
       "    'comment': 'longitude of the place where item is located (can be used as offset y from the center aka x,y,z=0,0,0)'},\n",
       "   {'@type': 'Property',\n",
       "    'name': 'elevation',\n",
       "    'displayName': 'elevation',\n",
       "    'schema': 'double',\n",
       "    'comment': 'elevation of the place where item is located (can be used as offset z from the center aka x,y,z=0,0,0)'},\n",
       "   {'@type': 'Relationship',\n",
       "    'name': 'connectsTo',\n",
       "    'properties': [{'@type': 'Property',\n",
       "      'name': 'is_open',\n",
       "      'schema': 'boolean'}]}],\n",
       "  '@context': 'dtmi:dtdl:context;2',\n",
       "  'comment': 'A pipe that connects at both ends to either a pipe or a tank',\n",
       "  'description': 'A pipe that connects at both ends to either a pipe or a tank'},\n",
       " {'@id': 'dtmi:billmanh:tank;1',\n",
       "  '@type': 'Interface',\n",
       "  'displayName': 'Tank',\n",
       "  'extends': 'dtmi:com:adt:dtsample:equipment;1',\n",
       "  'contents': [{'@type': 'Property',\n",
       "    'name': 'diameter',\n",
       "    'displayName': 'diameter (cm)',\n",
       "    'schema': 'double',\n",
       "    'comment': 'diameter at center of the tank in centimeters'},\n",
       "   {'@type': 'Property',\n",
       "    'name': 'volume',\n",
       "    'displayName': 'vol. (l)',\n",
       "    'schema': 'double',\n",
       "    'comment': 'maximum volume of the tank in liters'},\n",
       "   {'@type': 'Property',\n",
       "    'name': 'lat',\n",
       "    'displayName': 'latitude',\n",
       "    'schema': 'double',\n",
       "    'comment': 'latitude of the place where item is located (can be used as offset y from the center aka x,y,z=0,0,0)'},\n",
       "   {'@type': 'Property',\n",
       "    'name': 'long',\n",
       "    'displayName': 'logitude',\n",
       "    'schema': 'double',\n",
       "    'comment': 'longitude of the place where item is located (can be used as offset x from the center aka x,y,z=0,0,0)'},\n",
       "   {'@type': 'Property',\n",
       "    'name': 'elevation',\n",
       "    'displayName': 'elevation',\n",
       "    'schema': 'double',\n",
       "    'comment': 'elevation of the place where item is located (can be used as offset x from the center aka x,y,z=0,0,0)'},\n",
       "   {'@type': 'Relationship',\n",
       "    'name': 'connectsTo',\n",
       "    'properties': [{'@type': 'Property',\n",
       "      'name': 'is_open',\n",
       "      'schema': 'boolean'}]}],\n",
       "  '@context': 'dtmi:dtdl:context;2',\n",
       "  'comment': 'A tank that holds fluid, and can be emptied into a pipe',\n",
       "  'description': 'a tank for holding fluid'}]"
      ]
     },
     "execution_count": 43,
     "metadata": {},
     "output_type": "execute_result"
    }
   ],
   "source": [
    "models = [yaml.safe_load(open(os.path.join('models',m))) for m in os.listdir('models')]\n",
    "models\n"
   ]
  },
  {
   "cell_type": "markdown",
   "metadata": {},
   "source": [
    "The client takes a list of models. So you can just upload all of your models in one go. \n",
    "\n",
    "Note that it will crash if the model already exists. "
   ]
  },
  {
   "cell_type": "code",
   "execution_count": 44,
   "metadata": {},
   "outputs": [
    {
     "data": {
      "text/plain": [
       "[<azure.digitaltwins.core._generated.models._models_py3.DigitalTwinsModelData at 0x231ef87bc88>,\n",
       " <azure.digitaltwins.core._generated.models._models_py3.DigitalTwinsModelData at 0x231ef87b588>,\n",
       " <azure.digitaltwins.core._generated.models._models_py3.DigitalTwinsModelData at 0x231ef87bd30>]"
      ]
     },
     "execution_count": 44,
     "metadata": {},
     "output_type": "execute_result"
    }
   ],
   "source": [
    "service_client.create_models(models)"
   ]
  },
  {
   "cell_type": "markdown",
   "metadata": {},
   "source": [
    "## Uploading the twins\n",
    "\n",
    "To avoid having to filter out `nan` values I'm using -999. That way I can omit those fields from the json if that twin doesn't have said propperty. "
   ]
  },
  {
   "cell_type": "code",
   "execution_count": 53,
   "metadata": {},
   "outputs": [
    {
     "data": {
      "text/html": [
       "<div>\n",
       "<style scoped>\n",
       "    .dataframe tbody tr th:only-of-type {\n",
       "        vertical-align: middle;\n",
       "    }\n",
       "\n",
       "    .dataframe tbody tr th {\n",
       "        vertical-align: top;\n",
       "    }\n",
       "\n",
       "    .dataframe thead th {\n",
       "        text-align: right;\n",
       "    }\n",
       "</style>\n",
       "<table border=\"1\" class=\"dataframe\">\n",
       "  <thead>\n",
       "    <tr style=\"text-align: right;\">\n",
       "      <th></th>\n",
       "      <th>class</th>\n",
       "      <th>model_id</th>\n",
       "      <th>name</th>\n",
       "      <th>manufacturer</th>\n",
       "      <th>model_no</th>\n",
       "      <th>diameter</th>\n",
       "      <th>valve</th>\n",
       "      <th>capacity</th>\n",
       "      <th>volume</th>\n",
       "      <th>lat</th>\n",
       "      <th>long</th>\n",
       "      <th>elevation</th>\n",
       "    </tr>\n",
       "  </thead>\n",
       "  <tbody>\n",
       "    <tr>\n",
       "      <th>0</th>\n",
       "      <td>tank</td>\n",
       "      <td>dtmi:billmanh:tank;1</td>\n",
       "      <td>large_tank</td>\n",
       "      <td>ACME</td>\n",
       "      <td>1234</td>\n",
       "      <td>500</td>\n",
       "      <td>-999.0</td>\n",
       "      <td>-999.0</td>\n",
       "      <td>500.0</td>\n",
       "      <td>0</td>\n",
       "      <td>0</td>\n",
       "      <td>0</td>\n",
       "    </tr>\n",
       "    <tr>\n",
       "      <th>1</th>\n",
       "      <td>tank</td>\n",
       "      <td>dtmi:billmanh:tank;1</td>\n",
       "      <td>small_tank</td>\n",
       "      <td>ACME</td>\n",
       "      <td>1234</td>\n",
       "      <td>100</td>\n",
       "      <td>-999.0</td>\n",
       "      <td>-999.0</td>\n",
       "      <td>200.0</td>\n",
       "      <td>0</td>\n",
       "      <td>0</td>\n",
       "      <td>0</td>\n",
       "    </tr>\n",
       "    <tr>\n",
       "      <th>2</th>\n",
       "      <td>pipe</td>\n",
       "      <td>dtmi:billmanh:pipe;1</td>\n",
       "      <td>pipe1</td>\n",
       "      <td>ACME</td>\n",
       "      <td>2345</td>\n",
       "      <td>10</td>\n",
       "      <td>0.0</td>\n",
       "      <td>10.0</td>\n",
       "      <td>-999.0</td>\n",
       "      <td>0</td>\n",
       "      <td>0</td>\n",
       "      <td>0</td>\n",
       "    </tr>\n",
       "    <tr>\n",
       "      <th>3</th>\n",
       "      <td>pipe</td>\n",
       "      <td>dtmi:billmanh:pipe;1</td>\n",
       "      <td>pipe2</td>\n",
       "      <td>ACME</td>\n",
       "      <td>2345</td>\n",
       "      <td>10</td>\n",
       "      <td>0.0</td>\n",
       "      <td>10.0</td>\n",
       "      <td>-999.0</td>\n",
       "      <td>0</td>\n",
       "      <td>0</td>\n",
       "      <td>0</td>\n",
       "    </tr>\n",
       "    <tr>\n",
       "      <th>4</th>\n",
       "      <td>pipe</td>\n",
       "      <td>dtmi:billmanh:pipe;1</td>\n",
       "      <td>pipe3</td>\n",
       "      <td>ACME</td>\n",
       "      <td>2345</td>\n",
       "      <td>10</td>\n",
       "      <td>0.0</td>\n",
       "      <td>10.0</td>\n",
       "      <td>-999.0</td>\n",
       "      <td>0</td>\n",
       "      <td>0</td>\n",
       "      <td>0</td>\n",
       "    </tr>\n",
       "  </tbody>\n",
       "</table>\n",
       "</div>"
      ],
      "text/plain": [
       "  class              model_id        name manufacturer  model_no  diameter  \\\n",
       "0  tank  dtmi:billmanh:tank;1  large_tank         ACME      1234       500   \n",
       "1  tank  dtmi:billmanh:tank;1  small_tank         ACME      1234       100   \n",
       "2  pipe  dtmi:billmanh:pipe;1       pipe1         ACME      2345        10   \n",
       "3  pipe  dtmi:billmanh:pipe;1       pipe2         ACME      2345        10   \n",
       "4  pipe  dtmi:billmanh:pipe;1       pipe3         ACME      2345        10   \n",
       "\n",
       "   valve  capacity  volume  lat  long  elevation  \n",
       "0 -999.0    -999.0   500.0    0     0          0  \n",
       "1 -999.0    -999.0   200.0    0     0          0  \n",
       "2    0.0      10.0  -999.0    0     0          0  \n",
       "3    0.0      10.0  -999.0    0     0          0  \n",
       "4    0.0      10.0  -999.0    0     0          0  "
      ]
     },
     "execution_count": 53,
     "metadata": {},
     "output_type": "execute_result"
    }
   ],
   "source": [
    "# Get the Patron model\n",
    "twin_df = pd.read_excel('equipment.xlsx').fillna(-999)\n",
    "twin_df"
   ]
  },
  {
   "cell_type": "code",
   "execution_count": 54,
   "metadata": {},
   "outputs": [],
   "source": [
    "def create_twin_json(x):\n",
    "    digital_twin_id = x['class'] + str(uuid.uuid4())\n",
    "\n",
    "    j = {\n",
    "    \"$metadata\": {\n",
    "        \"$model\": x['model_id']\n",
    "        }\n",
    "    }\n",
    "    for i in [k for k in list(x.keys()) if (k not in ['class','model_id']) & (x[k]!=-999)]:\n",
    "        j[i]=x[i]\n",
    "    return digital_twin_id,j\n",
    "        "
   ]
  },
  {
   "cell_type": "code",
   "execution_count": 55,
   "metadata": {},
   "outputs": [
    {
     "data": {
      "text/plain": [
       "('tank74c0258f-2af8-4a62-95ba-f7a9803e47bd',\n",
       " {'$metadata': {'$model': 'dtmi:billmanh:tank;1'},\n",
       "  'name': 'large_tank',\n",
       "  'manufacturer': 'ACME',\n",
       "  'model_no': 1234,\n",
       "  'diameter': 500,\n",
       "  'volume': 500.0,\n",
       "  'lat': 0,\n",
       "  'long': 0,\n",
       "  'elevation': 0})"
      ]
     },
     "execution_count": 55,
     "metadata": {},
     "output_type": "execute_result"
    }
   ],
   "source": [
    "twins = [create_twin_json(i) for i in list(twin_df.T.to_dict().values())]\n",
    "twins[0]"
   ]
  },
  {
   "cell_type": "markdown",
   "metadata": {},
   "source": [
    "Now I can upload all of them. Note that my process makes a random GUI so you need to query in order to get them back. \n",
    "\n",
    "in order to make the DTID a little more readable, I'm adding `name`+`guid`"
   ]
  },
  {
   "cell_type": "code",
   "execution_count": 57,
   "metadata": {},
   "outputs": [
    {
     "name": "stdout",
     "output_type": "stream",
     "text": [
      "uploading: tank74c0258f-2af8-4a62-95ba-f7a9803e47bd; large_tank\n",
      "uploading: tankdcd691eb-b335-420d-87f3-d5c3bb3fe2d4; small_tank\n",
      "uploading: pipe0791abba-7fc1-49b1-ba25-126d133db4af; pipe1\n",
      "uploading: piped83024e9-776c-444e-8f25-04d83c7b227c; pipe2\n",
      "uploading: pipe0e49be47-fef2-45a9-b9f7-a0364ec9365d; pipe3\n"
     ]
    }
   ],
   "source": [
    "for i in twins:\n",
    "    print(f\"uploading: {i[0]}; {i[1]['name']}\")\n",
    "    service_client.upsert_digital_twin(i[0],i[1])"
   ]
  },
  {
   "cell_type": "markdown",
   "metadata": {},
   "source": [
    "## Building the relationships\n",
    "In this simulation: \n",
    "\n",
    "* `large_tank` -> `connectsTo` -> `pipe1`\n",
    "* `pipe1` -> `connectsTo` -> `pipe2`\n",
    "* `pipe2` -> `connectsTo` -> `pipe3`\n",
    "* `pipe2` -> `connectsTo` -> `small_tank`\n"
   ]
  },
  {
   "cell_type": "code",
   "execution_count": 58,
   "metadata": {},
   "outputs": [],
   "source": [
    "def make_connection(source,target):\n",
    "    c = {\n",
    "        \"$relationshipId\": f\"{source[0]}connectsTo{target[0]}\",\n",
    "        \"$sourceId\": source[0],\n",
    "        \"$relationshipName\": \"connectsTo\",\n",
    "        \"$targetId\": target[0],\n",
    "        \"is_open\": True\n",
    "    }\n",
    "    return c"
   ]
  },
  {
   "cell_type": "markdown",
   "metadata": {},
   "source": [
    "To make it easy, I'm just going to use the dataset that they came in."
   ]
  },
  {
   "cell_type": "code",
   "execution_count": 59,
   "metadata": {},
   "outputs": [
    {
     "data": {
      "text/html": [
       "<div>\n",
       "<style scoped>\n",
       "    .dataframe tbody tr th:only-of-type {\n",
       "        vertical-align: middle;\n",
       "    }\n",
       "\n",
       "    .dataframe tbody tr th {\n",
       "        vertical-align: top;\n",
       "    }\n",
       "\n",
       "    .dataframe thead th {\n",
       "        text-align: right;\n",
       "    }\n",
       "</style>\n",
       "<table border=\"1\" class=\"dataframe\">\n",
       "  <thead>\n",
       "    <tr style=\"text-align: right;\">\n",
       "      <th></th>\n",
       "      <th>class</th>\n",
       "      <th>model_id</th>\n",
       "      <th>name</th>\n",
       "      <th>manufacturer</th>\n",
       "      <th>model_no</th>\n",
       "      <th>diameter</th>\n",
       "      <th>valve</th>\n",
       "      <th>capacity</th>\n",
       "      <th>volume</th>\n",
       "      <th>lat</th>\n",
       "      <th>long</th>\n",
       "      <th>elevation</th>\n",
       "    </tr>\n",
       "  </thead>\n",
       "  <tbody>\n",
       "    <tr>\n",
       "      <th>0</th>\n",
       "      <td>tank</td>\n",
       "      <td>dtmi:billmanh:tank;1</td>\n",
       "      <td>large_tank</td>\n",
       "      <td>ACME</td>\n",
       "      <td>1234</td>\n",
       "      <td>500</td>\n",
       "      <td>-999.0</td>\n",
       "      <td>-999.0</td>\n",
       "      <td>500.0</td>\n",
       "      <td>0</td>\n",
       "      <td>0</td>\n",
       "      <td>0</td>\n",
       "    </tr>\n",
       "    <tr>\n",
       "      <th>1</th>\n",
       "      <td>tank</td>\n",
       "      <td>dtmi:billmanh:tank;1</td>\n",
       "      <td>small_tank</td>\n",
       "      <td>ACME</td>\n",
       "      <td>1234</td>\n",
       "      <td>100</td>\n",
       "      <td>-999.0</td>\n",
       "      <td>-999.0</td>\n",
       "      <td>200.0</td>\n",
       "      <td>0</td>\n",
       "      <td>0</td>\n",
       "      <td>0</td>\n",
       "    </tr>\n",
       "    <tr>\n",
       "      <th>2</th>\n",
       "      <td>pipe</td>\n",
       "      <td>dtmi:billmanh:pipe;1</td>\n",
       "      <td>pipe1</td>\n",
       "      <td>ACME</td>\n",
       "      <td>2345</td>\n",
       "      <td>10</td>\n",
       "      <td>0.0</td>\n",
       "      <td>10.0</td>\n",
       "      <td>-999.0</td>\n",
       "      <td>0</td>\n",
       "      <td>0</td>\n",
       "      <td>0</td>\n",
       "    </tr>\n",
       "    <tr>\n",
       "      <th>3</th>\n",
       "      <td>pipe</td>\n",
       "      <td>dtmi:billmanh:pipe;1</td>\n",
       "      <td>pipe2</td>\n",
       "      <td>ACME</td>\n",
       "      <td>2345</td>\n",
       "      <td>10</td>\n",
       "      <td>0.0</td>\n",
       "      <td>10.0</td>\n",
       "      <td>-999.0</td>\n",
       "      <td>0</td>\n",
       "      <td>0</td>\n",
       "      <td>0</td>\n",
       "    </tr>\n",
       "    <tr>\n",
       "      <th>4</th>\n",
       "      <td>pipe</td>\n",
       "      <td>dtmi:billmanh:pipe;1</td>\n",
       "      <td>pipe3</td>\n",
       "      <td>ACME</td>\n",
       "      <td>2345</td>\n",
       "      <td>10</td>\n",
       "      <td>0.0</td>\n",
       "      <td>10.0</td>\n",
       "      <td>-999.0</td>\n",
       "      <td>0</td>\n",
       "      <td>0</td>\n",
       "      <td>0</td>\n",
       "    </tr>\n",
       "  </tbody>\n",
       "</table>\n",
       "</div>"
      ],
      "text/plain": [
       "  class              model_id        name manufacturer  model_no  diameter  \\\n",
       "0  tank  dtmi:billmanh:tank;1  large_tank         ACME      1234       500   \n",
       "1  tank  dtmi:billmanh:tank;1  small_tank         ACME      1234       100   \n",
       "2  pipe  dtmi:billmanh:pipe;1       pipe1         ACME      2345        10   \n",
       "3  pipe  dtmi:billmanh:pipe;1       pipe2         ACME      2345        10   \n",
       "4  pipe  dtmi:billmanh:pipe;1       pipe3         ACME      2345        10   \n",
       "\n",
       "   valve  capacity  volume  lat  long  elevation  \n",
       "0 -999.0    -999.0   500.0    0     0          0  \n",
       "1 -999.0    -999.0   200.0    0     0          0  \n",
       "2    0.0      10.0  -999.0    0     0          0  \n",
       "3    0.0      10.0  -999.0    0     0          0  \n",
       "4    0.0      10.0  -999.0    0     0          0  "
      ]
     },
     "execution_count": 59,
     "metadata": {},
     "output_type": "execute_result"
    }
   ],
   "source": [
    "twin_df"
   ]
  },
  {
   "cell_type": "code",
   "execution_count": 60,
   "metadata": {},
   "outputs": [],
   "source": [
    "relationships = []\n",
    "\n",
    "# * `large_tank` -> `connectsTo` -> `pipe1`\n",
    "relationships.append(make_connection(twins[0],twins[2]))\n",
    "# * `pipe1` -> `connectsTo` -> `pipe2`\n",
    "relationships.append(make_connection(twins[2],twins[3]))\n",
    "# * `pipe2` -> `connectsTo` -> `pipe3`\n",
    "relationships.append(make_connection(twins[3],twins[4]))\n",
    "# * `pipe3` -> `connectsTo` -> `small_tank`\n",
    "relationships.append(make_connection(twins[4],twins[1]))"
   ]
  },
  {
   "cell_type": "code",
   "execution_count": 61,
   "metadata": {},
   "outputs": [
    {
     "data": {
      "text/plain": [
       "[{'$relationshipId': 'tank74c0258f-2af8-4a62-95ba-f7a9803e47bdconnectsTopipe0791abba-7fc1-49b1-ba25-126d133db4af',\n",
       "  '$sourceId': 'tank74c0258f-2af8-4a62-95ba-f7a9803e47bd',\n",
       "  '$relationshipName': 'connectsTo',\n",
       "  '$targetId': 'pipe0791abba-7fc1-49b1-ba25-126d133db4af',\n",
       "  'is_open': True},\n",
       " {'$relationshipId': 'pipe0791abba-7fc1-49b1-ba25-126d133db4afconnectsTopiped83024e9-776c-444e-8f25-04d83c7b227c',\n",
       "  '$sourceId': 'pipe0791abba-7fc1-49b1-ba25-126d133db4af',\n",
       "  '$relationshipName': 'connectsTo',\n",
       "  '$targetId': 'piped83024e9-776c-444e-8f25-04d83c7b227c',\n",
       "  'is_open': True},\n",
       " {'$relationshipId': 'piped83024e9-776c-444e-8f25-04d83c7b227cconnectsTopipe0e49be47-fef2-45a9-b9f7-a0364ec9365d',\n",
       "  '$sourceId': 'piped83024e9-776c-444e-8f25-04d83c7b227c',\n",
       "  '$relationshipName': 'connectsTo',\n",
       "  '$targetId': 'pipe0e49be47-fef2-45a9-b9f7-a0364ec9365d',\n",
       "  'is_open': True},\n",
       " {'$relationshipId': 'pipe0e49be47-fef2-45a9-b9f7-a0364ec9365dconnectsTotankdcd691eb-b335-420d-87f3-d5c3bb3fe2d4',\n",
       "  '$sourceId': 'pipe0e49be47-fef2-45a9-b9f7-a0364ec9365d',\n",
       "  '$relationshipName': 'connectsTo',\n",
       "  '$targetId': 'tankdcd691eb-b335-420d-87f3-d5c3bb3fe2d4',\n",
       "  'is_open': True}]"
      ]
     },
     "execution_count": 61,
     "metadata": {},
     "output_type": "execute_result"
    }
   ],
   "source": [
    "relationships"
   ]
  },
  {
   "cell_type": "code",
   "execution_count": 62,
   "metadata": {},
   "outputs": [
    {
     "name": "stdout",
     "output_type": "stream",
     "text": [
      "uploading: tank74c0258f-2af8-4a62-95ba-f7a9803e47bdconnectsTopipe0791abba-7fc1-49b1-ba25-126d133db4af\n",
      "uploading: pipe0791abba-7fc1-49b1-ba25-126d133db4afconnectsTopiped83024e9-776c-444e-8f25-04d83c7b227c\n",
      "uploading: piped83024e9-776c-444e-8f25-04d83c7b227cconnectsTopipe0e49be47-fef2-45a9-b9f7-a0364ec9365d\n",
      "uploading: pipe0e49be47-fef2-45a9-b9f7-a0364ec9365dconnectsTotankdcd691eb-b335-420d-87f3-d5c3bb3fe2d4\n"
     ]
    }
   ],
   "source": [
    "for i in relationships:\n",
    "    print(f'uploading: {i[\"$relationshipId\"]}')\n",
    "    service_client.upsert_relationship(\n",
    "            i[\"$sourceId\"],\n",
    "            i[\"$relationshipId\"],\n",
    "            i\n",
    "        )"
   ]
  },
  {
   "cell_type": "code",
   "execution_count": null,
   "metadata": {},
   "outputs": [],
   "source": []
  }
 ],
 "metadata": {
  "kernelspec": {
   "display_name": "Python 3.7.0 ('azure-iot')",
   "language": "python",
   "name": "python3"
  },
  "language_info": {
   "codemirror_mode": {
    "name": "ipython",
    "version": 3
   },
   "file_extension": ".py",
   "mimetype": "text/x-python",
   "name": "python",
   "nbconvert_exporter": "python",
   "pygments_lexer": "ipython3",
   "version": "3.7.0"
  },
  "vscode": {
   "interpreter": {
    "hash": "f7c09646ecb08b877d824c67655aa2288de2553139c17e14fe802eab305f520a"
   }
  }
 },
 "nbformat": 4,
 "nbformat_minor": 4
}

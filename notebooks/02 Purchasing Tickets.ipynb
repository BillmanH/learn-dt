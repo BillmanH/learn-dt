{
 "cells": [
  {
   "cell_type": "markdown",
   "metadata": {},
   "source": [
    "# Purchasing tickets\n",
    "## An example use case of the Digital Twin\n",
    "\n",
    "This example just includes:\n",
    "* Connecting\n",
    "* Building relationships between models\n",
    "* Updating values\n",
    "* Modifying the relationships and updating twins\n",
    "* Querying twins by relationship\n",
    "\n",
    "In the previous scenario we made a bunch of customers. In this scenario we built a bunch of individual users \n",
    "[This is the SDK repo on Github](https://github.com/Azure/azure-sdk-for-python/tree/4559e19e2f3146a49f1eba1706bb798071f4a1f5/sdk/digitaltwins/azure-digitaltwins-core)\n",
    "\n",
    "[Here is the doc on the query language](https://docs.microsoft.com/en-us/azure/digital-twins/concepts-query-language)\n"
   ]
  },
  {
   "cell_type": "code",
   "execution_count": 1,
   "metadata": {},
   "outputs": [
    {
     "data": {
      "text/plain": [
       "<azure.digitaltwins.core._digitaltwins_client.DigitalTwinsClient at 0x22af4f51708>"
      ]
     },
     "execution_count": 1,
     "metadata": {},
     "output_type": "execute_result"
    }
   ],
   "source": [
    "from azure.identity import AzureCliCredential\n",
    "from azure.digitaltwins.core import DigitalTwinsClient\n",
    "\n",
    "# using yaml instead of \n",
    "import yaml\n",
    "import uuid\n",
    "\n",
    "# using altair instead of matplotlib for vizuals\n",
    "import altair as alt\n",
    "from vega_datasets import data\n",
    "import numpy as np\n",
    "import pandas as pd\n",
    "\n",
    "\n",
    "azure_cli = AzureCliCredential()\n",
    "service_client = DigitalTwinsClient(\n",
    "    \"home-test-twin.api.wcus.digitaltwins.azure.net\", azure_cli)\n",
    "service_client"
   ]
  },
  {
   "cell_type": "markdown",
   "metadata": {},
   "source": [
    "So from the previous notebook we uploaded some models. "
   ]
  },
  {
   "cell_type": "code",
   "execution_count": 2,
   "metadata": {},
   "outputs": [
    {
     "name": "stdout",
     "output_type": "stream",
     "text": [
      "{'additional_properties': {}, 'display_name': {'en': 'Patron'}, 'description': {'en': 'As an example, contains all of the properties possible in the DTDL.'}, 'id': 'dtmi:billmanh:patron;1', 'upload_time': datetime.datetime(2020, 11, 19, 2, 14, 27, 210940, tzinfo=<FixedOffset '+00:00'>), 'decommissioned': False, 'model': None}\n"
     ]
    }
   ],
   "source": [
    "patron = service_client.get_model(\"dtmi:billmanh:patron;1\")\n",
    "patron.as_dict()"
   ]
  },
  {
   "cell_type": "markdown",
   "metadata": {},
   "source": [
    "And we have a number of `cusotmers` in our ecosystem that are made from the `patron` model. "
   ]
  },
  {
   "cell_type": "code",
   "execution_count": 38,
   "metadata": {},
   "outputs": [],
   "source": [
    "query_expression = \"SELECT * FROM digitaltwins t where IS_OF_MODEL('dtmi:billmanh:patron;1')\"\n",
    "query_result = service_client.query_twins(query_expression)"
   ]
  },
  {
   "cell_type": "code",
   "execution_count": 40,
   "metadata": {},
   "outputs": [],
   "source": [
    "df_customers = pd.DataFrame([[i['$dtId'],i['satisfaction']] for i in query_result],\n",
    "                           columns=['id','satisfaction'])"
   ]
  },
  {
   "cell_type": "code",
   "execution_count": 41,
   "metadata": {},
   "outputs": [
    {
     "data": {
      "text/html": [
       "<div>\n",
       "<style scoped>\n",
       "    .dataframe tbody tr th:only-of-type {\n",
       "        vertical-align: middle;\n",
       "    }\n",
       "\n",
       "    .dataframe tbody tr th {\n",
       "        vertical-align: top;\n",
       "    }\n",
       "\n",
       "    .dataframe thead th {\n",
       "        text-align: right;\n",
       "    }\n",
       "</style>\n",
       "<table border=\"1\" class=\"dataframe\">\n",
       "  <thead>\n",
       "    <tr style=\"text-align: right;\">\n",
       "      <th></th>\n",
       "      <th>id</th>\n",
       "      <th>satisfaction</th>\n",
       "    </tr>\n",
       "  </thead>\n",
       "  <tbody>\n",
       "    <tr>\n",
       "      <th>0</th>\n",
       "      <td>customer-cc04f3b6-39b0-4cef-bfff-a7d668cce446</td>\n",
       "      <td>10</td>\n",
       "    </tr>\n",
       "    <tr>\n",
       "      <th>1</th>\n",
       "      <td>customer-3cbd5e60-957d-44ff-944f-9adb42a20a52</td>\n",
       "      <td>10</td>\n",
       "    </tr>\n",
       "    <tr>\n",
       "      <th>2</th>\n",
       "      <td>customer-5c454e2f-f70b-4352-b75a-958f1a49beba</td>\n",
       "      <td>7</td>\n",
       "    </tr>\n",
       "    <tr>\n",
       "      <th>3</th>\n",
       "      <td>customer-26196fee-5ffd-457a-86b7-192a998f3cf2</td>\n",
       "      <td>9</td>\n",
       "    </tr>\n",
       "    <tr>\n",
       "      <th>4</th>\n",
       "      <td>customer-e6f49d8a-711b-41c3-9db8-c7ece3dbc32c</td>\n",
       "      <td>7</td>\n",
       "    </tr>\n",
       "    <tr>\n",
       "      <th>...</th>\n",
       "      <td>...</td>\n",
       "      <td>...</td>\n",
       "    </tr>\n",
       "    <tr>\n",
       "      <th>79</th>\n",
       "      <td>customer-45e9aa03-733d-4a99-b9d5-94f1c6b04214</td>\n",
       "      <td>9</td>\n",
       "    </tr>\n",
       "    <tr>\n",
       "      <th>80</th>\n",
       "      <td>customer-0234cb48-1fa2-43e0-b69d-36a6ff269666</td>\n",
       "      <td>9</td>\n",
       "    </tr>\n",
       "    <tr>\n",
       "      <th>81</th>\n",
       "      <td>customer-75b2f757-faee-4a85-bc93-e6e9ff7cd891</td>\n",
       "      <td>6</td>\n",
       "    </tr>\n",
       "    <tr>\n",
       "      <th>82</th>\n",
       "      <td>customer-048f85a8-173e-4305-92b8-ead2a748b07f</td>\n",
       "      <td>8</td>\n",
       "    </tr>\n",
       "    <tr>\n",
       "      <th>83</th>\n",
       "      <td>customer-25e19268-3433-4f09-afe3-94f466313368</td>\n",
       "      <td>10</td>\n",
       "    </tr>\n",
       "  </tbody>\n",
       "</table>\n",
       "<p>84 rows × 2 columns</p>\n",
       "</div>"
      ],
      "text/plain": [
       "                                               id  satisfaction\n",
       "0   customer-cc04f3b6-39b0-4cef-bfff-a7d668cce446            10\n",
       "1   customer-3cbd5e60-957d-44ff-944f-9adb42a20a52            10\n",
       "2   customer-5c454e2f-f70b-4352-b75a-958f1a49beba             7\n",
       "3   customer-26196fee-5ffd-457a-86b7-192a998f3cf2             9\n",
       "4   customer-e6f49d8a-711b-41c3-9db8-c7ece3dbc32c             7\n",
       "..                                            ...           ...\n",
       "79  customer-45e9aa03-733d-4a99-b9d5-94f1c6b04214             9\n",
       "80  customer-0234cb48-1fa2-43e0-b69d-36a6ff269666             9\n",
       "81  customer-75b2f757-faee-4a85-bc93-e6e9ff7cd891             6\n",
       "82  customer-048f85a8-173e-4305-92b8-ead2a748b07f             8\n",
       "83  customer-25e19268-3433-4f09-afe3-94f466313368            10\n",
       "\n",
       "[84 rows x 2 columns]"
      ]
     },
     "execution_count": 41,
     "metadata": {},
     "output_type": "execute_result"
    }
   ],
   "source": [
    "df_customers"
   ]
  },
  {
   "cell_type": "markdown",
   "metadata": {},
   "source": [
    "Let's add another model for `tickets`.  In our very simple model, we will assume that `customers` will buy `tickets` to our events."
   ]
  },
  {
   "cell_type": "code",
   "execution_count": 174,
   "metadata": {},
   "outputs": [],
   "source": [
    "service_client.delete_model(ticket_model_id)"
   ]
  },
  {
   "cell_type": "code",
   "execution_count": 175,
   "metadata": {},
   "outputs": [
    {
     "data": {
      "text/plain": [
       "[<azure.digitaltwins.core._generated.models._models_py3.DigitalTwinsModelData at 0x22afb2b3e88>]"
      ]
     },
     "execution_count": 175,
     "metadata": {},
     "output_type": "execute_result"
    }
   ],
   "source": [
    "ticket_model_json = yaml.safe_load(open(\"../models/ticket.json\"))\n",
    "service_client.create_models([ticket_model_json])"
   ]
  },
  {
   "cell_type": "code",
   "execution_count": 176,
   "metadata": {},
   "outputs": [
    {
     "data": {
      "text/plain": [
       "{'display_name': {'en': 'ticket'},\n",
       " 'description': {'en': 'an abstract ticket'},\n",
       " 'id': 'dtmi:billmanh:ticket;1',\n",
       " 'upload_time': '2020-11-26T17:31:20.753118Z',\n",
       " 'decommissioned': False}"
      ]
     },
     "execution_count": 176,
     "metadata": {},
     "output_type": "execute_result"
    }
   ],
   "source": [
    "ticket_model_id = \"dtmi:billmanh:ticket;1\"\n",
    "get_model = service_client.get_model(ticket_model_id)\n",
    "get_model.as_dict()"
   ]
  },
  {
   "cell_type": "markdown",
   "metadata": {},
   "source": [
    "Note that the dict returned from the service doesn't contain all of the values that you created, but that's ok. "
   ]
  },
  {
   "cell_type": "code",
   "execution_count": 63,
   "metadata": {},
   "outputs": [],
   "source": [
    "def generate_twin(name,model_id):\n",
    "    digital_twin_id = f'{name}-{str(uuid.uuid4())}'\n",
    "    dt_json = {\n",
    "        \"$metadata\": {\n",
    "            \"$model\": model_id\n",
    "        }\n",
    "    }\n",
    "    return digital_twin_id,dt_json\n",
    "\n",
    "def updsert_twin():\n",
    "    created_twin = service_client.upsert_digital_twin(digital_twin_id, dt_json)\n",
    "    return created_twin"
   ]
  },
  {
   "cell_type": "code",
   "execution_count": 64,
   "metadata": {},
   "outputs": [],
   "source": [
    "ticket_id, ticket_json = generate_twin(\"ticket\",ticket_model_id)"
   ]
  },
  {
   "cell_type": "code",
   "execution_count": 65,
   "metadata": {},
   "outputs": [
    {
     "data": {
      "text/plain": [
       "{'$metadata': {'$model': 'dtmi:billmanh:ticket;1'}}"
      ]
     },
     "execution_count": 65,
     "metadata": {},
     "output_type": "execute_result"
    }
   ],
   "source": [
    "ticket_json"
   ]
  },
  {
   "cell_type": "markdown",
   "metadata": {},
   "source": [
    "So when I create the `tickets` i'm going to create them as unsold (`available`) and for a range of events. I'm just going to introduce some tickets into the system for some shows coming up. These tickets just exist locally at this point, but we will 'go live' when we push them into the ecosystem. "
   ]
  },
  {
   "cell_type": "code",
   "execution_count": 193,
   "metadata": {},
   "outputs": [
    {
     "data": {
      "text/html": [
       "<div>\n",
       "<style scoped>\n",
       "    .dataframe tbody tr th:only-of-type {\n",
       "        vertical-align: middle;\n",
       "    }\n",
       "\n",
       "    .dataframe tbody tr th {\n",
       "        vertical-align: top;\n",
       "    }\n",
       "\n",
       "    .dataframe thead th {\n",
       "        text-align: right;\n",
       "    }\n",
       "</style>\n",
       "<table border=\"1\" class=\"dataframe\">\n",
       "  <thead>\n",
       "    <tr style=\"text-align: right;\">\n",
       "      <th></th>\n",
       "      <th>$metadata</th>\n",
       "      <th>event_title</th>\n",
       "      <th>state</th>\n",
       "      <th>ticket_location</th>\n",
       "      <th>uid</th>\n",
       "    </tr>\n",
       "  </thead>\n",
       "  <tbody>\n",
       "    <tr>\n",
       "      <th>0</th>\n",
       "      <td>{'$model': 'dtmi:billmanh:ticket;1'}</td>\n",
       "      <td>Nirvana</td>\n",
       "      <td>open</td>\n",
       "      <td>0</td>\n",
       "      <td>ticket-ca0b3ba6-5653-48db-829e-3271c17dd224</td>\n",
       "    </tr>\n",
       "    <tr>\n",
       "      <th>1</th>\n",
       "      <td>{'$model': 'dtmi:billmanh:ticket;1'}</td>\n",
       "      <td>Nirvana</td>\n",
       "      <td>open</td>\n",
       "      <td>1</td>\n",
       "      <td>ticket-5538331c-e0d6-4338-8657-7022c31abb97</td>\n",
       "    </tr>\n",
       "    <tr>\n",
       "      <th>2</th>\n",
       "      <td>{'$model': 'dtmi:billmanh:ticket;1'}</td>\n",
       "      <td>Nirvana</td>\n",
       "      <td>open</td>\n",
       "      <td>2</td>\n",
       "      <td>ticket-09ada091-8ab9-4ca5-9586-a52fcc498ec0</td>\n",
       "    </tr>\n",
       "    <tr>\n",
       "      <th>3</th>\n",
       "      <td>{'$model': 'dtmi:billmanh:ticket;1'}</td>\n",
       "      <td>Nirvana</td>\n",
       "      <td>open</td>\n",
       "      <td>3</td>\n",
       "      <td>ticket-4337bb3a-a556-4c57-80ca-661dd04a875d</td>\n",
       "    </tr>\n",
       "    <tr>\n",
       "      <th>4</th>\n",
       "      <td>{'$model': 'dtmi:billmanh:ticket;1'}</td>\n",
       "      <td>Nirvana</td>\n",
       "      <td>open</td>\n",
       "      <td>4</td>\n",
       "      <td>ticket-974e491b-90d3-4191-a46a-f1c31d3d705e</td>\n",
       "    </tr>\n",
       "    <tr>\n",
       "      <th>5</th>\n",
       "      <td>{'$model': 'dtmi:billmanh:ticket;1'}</td>\n",
       "      <td>Smashing Pumpkins</td>\n",
       "      <td>open</td>\n",
       "      <td>0</td>\n",
       "      <td>ticket-3e073eac-45fa-4415-a73f-9903ca904a6a</td>\n",
       "    </tr>\n",
       "    <tr>\n",
       "      <th>6</th>\n",
       "      <td>{'$model': 'dtmi:billmanh:ticket;1'}</td>\n",
       "      <td>Smashing Pumpkins</td>\n",
       "      <td>open</td>\n",
       "      <td>1</td>\n",
       "      <td>ticket-91532dbb-5d3b-4dbf-bb8c-e233a9ed6912</td>\n",
       "    </tr>\n",
       "    <tr>\n",
       "      <th>7</th>\n",
       "      <td>{'$model': 'dtmi:billmanh:ticket;1'}</td>\n",
       "      <td>Smashing Pumpkins</td>\n",
       "      <td>open</td>\n",
       "      <td>2</td>\n",
       "      <td>ticket-75407b25-27da-413d-9105-6cd1c1ba01f6</td>\n",
       "    </tr>\n",
       "    <tr>\n",
       "      <th>8</th>\n",
       "      <td>{'$model': 'dtmi:billmanh:ticket;1'}</td>\n",
       "      <td>Smashing Pumpkins</td>\n",
       "      <td>open</td>\n",
       "      <td>3</td>\n",
       "      <td>ticket-77152f5c-2740-4bf1-9e9f-f28f4daeca16</td>\n",
       "    </tr>\n",
       "    <tr>\n",
       "      <th>9</th>\n",
       "      <td>{'$model': 'dtmi:billmanh:ticket;1'}</td>\n",
       "      <td>Smashing Pumpkins</td>\n",
       "      <td>open</td>\n",
       "      <td>4</td>\n",
       "      <td>ticket-3d66fba8-db93-4234-817b-8cdf45d7b7ec</td>\n",
       "    </tr>\n",
       "    <tr>\n",
       "      <th>10</th>\n",
       "      <td>{'$model': 'dtmi:billmanh:ticket;1'}</td>\n",
       "      <td>Foo Fighters</td>\n",
       "      <td>open</td>\n",
       "      <td>0</td>\n",
       "      <td>ticket-47f3ca10-4dec-4a97-898c-c22c1b9a0c72</td>\n",
       "    </tr>\n",
       "    <tr>\n",
       "      <th>11</th>\n",
       "      <td>{'$model': 'dtmi:billmanh:ticket;1'}</td>\n",
       "      <td>Foo Fighters</td>\n",
       "      <td>open</td>\n",
       "      <td>1</td>\n",
       "      <td>ticket-7338c0b6-0fe0-48dc-b1cc-360c683de56d</td>\n",
       "    </tr>\n",
       "    <tr>\n",
       "      <th>12</th>\n",
       "      <td>{'$model': 'dtmi:billmanh:ticket;1'}</td>\n",
       "      <td>Foo Fighters</td>\n",
       "      <td>open</td>\n",
       "      <td>2</td>\n",
       "      <td>ticket-ad3383a7-8ed9-4cad-9e13-1d0f09858d4f</td>\n",
       "    </tr>\n",
       "    <tr>\n",
       "      <th>13</th>\n",
       "      <td>{'$model': 'dtmi:billmanh:ticket;1'}</td>\n",
       "      <td>Foo Fighters</td>\n",
       "      <td>open</td>\n",
       "      <td>3</td>\n",
       "      <td>ticket-a08a72bf-db6c-4976-aca4-3e02074d470f</td>\n",
       "    </tr>\n",
       "    <tr>\n",
       "      <th>14</th>\n",
       "      <td>{'$model': 'dtmi:billmanh:ticket;1'}</td>\n",
       "      <td>Foo Fighters</td>\n",
       "      <td>open</td>\n",
       "      <td>4</td>\n",
       "      <td>ticket-4a1f6ded-885d-4da3-a053-1abaca85a22c</td>\n",
       "    </tr>\n",
       "  </tbody>\n",
       "</table>\n",
       "</div>"
      ],
      "text/plain": [
       "                               $metadata        event_title state  \\\n",
       "0   {'$model': 'dtmi:billmanh:ticket;1'}            Nirvana  open   \n",
       "1   {'$model': 'dtmi:billmanh:ticket;1'}            Nirvana  open   \n",
       "2   {'$model': 'dtmi:billmanh:ticket;1'}            Nirvana  open   \n",
       "3   {'$model': 'dtmi:billmanh:ticket;1'}            Nirvana  open   \n",
       "4   {'$model': 'dtmi:billmanh:ticket;1'}            Nirvana  open   \n",
       "5   {'$model': 'dtmi:billmanh:ticket;1'}  Smashing Pumpkins  open   \n",
       "6   {'$model': 'dtmi:billmanh:ticket;1'}  Smashing Pumpkins  open   \n",
       "7   {'$model': 'dtmi:billmanh:ticket;1'}  Smashing Pumpkins  open   \n",
       "8   {'$model': 'dtmi:billmanh:ticket;1'}  Smashing Pumpkins  open   \n",
       "9   {'$model': 'dtmi:billmanh:ticket;1'}  Smashing Pumpkins  open   \n",
       "10  {'$model': 'dtmi:billmanh:ticket;1'}       Foo Fighters  open   \n",
       "11  {'$model': 'dtmi:billmanh:ticket;1'}       Foo Fighters  open   \n",
       "12  {'$model': 'dtmi:billmanh:ticket;1'}       Foo Fighters  open   \n",
       "13  {'$model': 'dtmi:billmanh:ticket;1'}       Foo Fighters  open   \n",
       "14  {'$model': 'dtmi:billmanh:ticket;1'}       Foo Fighters  open   \n",
       "\n",
       "    ticket_location                                          uid  \n",
       "0                 0  ticket-ca0b3ba6-5653-48db-829e-3271c17dd224  \n",
       "1                 1  ticket-5538331c-e0d6-4338-8657-7022c31abb97  \n",
       "2                 2  ticket-09ada091-8ab9-4ca5-9586-a52fcc498ec0  \n",
       "3                 3  ticket-4337bb3a-a556-4c57-80ca-661dd04a875d  \n",
       "4                 4  ticket-974e491b-90d3-4191-a46a-f1c31d3d705e  \n",
       "5                 0  ticket-3e073eac-45fa-4415-a73f-9903ca904a6a  \n",
       "6                 1  ticket-91532dbb-5d3b-4dbf-bb8c-e233a9ed6912  \n",
       "7                 2  ticket-75407b25-27da-413d-9105-6cd1c1ba01f6  \n",
       "8                 3  ticket-77152f5c-2740-4bf1-9e9f-f28f4daeca16  \n",
       "9                 4  ticket-3d66fba8-db93-4234-817b-8cdf45d7b7ec  \n",
       "10                0  ticket-47f3ca10-4dec-4a97-898c-c22c1b9a0c72  \n",
       "11                1  ticket-7338c0b6-0fe0-48dc-b1cc-360c683de56d  \n",
       "12                2  ticket-ad3383a7-8ed9-4cad-9e13-1d0f09858d4f  \n",
       "13                3  ticket-a08a72bf-db6c-4976-aca4-3e02074d470f  \n",
       "14                4  ticket-4a1f6ded-885d-4da3-a053-1abaca85a22c  "
      ]
     },
     "execution_count": 193,
     "metadata": {},
     "output_type": "execute_result"
    }
   ],
   "source": [
    "def generate_tickets(title,n_tickets):\n",
    "    tickets = []\n",
    "    for i in range(n_tickets):\n",
    "        ticket_id, ticket_json = generate_twin(\"ticket\",ticket_model_id)\n",
    "        ticket_json['event_title'] = title\n",
    "        ticket_json['state'] = 'open'\n",
    "        ticket_json['ticket_location'] = i\n",
    "        ticket_json['uid'] = f'ticket-{str(uuid.uuid4())}'\n",
    "        tickets.append(ticket_json)\n",
    "    return tickets\n",
    "\n",
    "tickets_df = pd.concat([pd.DataFrame(generate_tickets('Nirvana',5)),\n",
    "          pd.DataFrame(generate_tickets('Smashing Pumpkins',5)),\n",
    "           pd.DataFrame(generate_tickets('Foo Fighters',5))]).reset_index(drop=True)\n",
    "\n",
    "tickets_df"
   ]
  },
  {
   "cell_type": "code",
   "execution_count": 194,
   "metadata": {},
   "outputs": [
    {
     "data": {
      "text/plain": [
       "0     43\n",
       "1     43\n",
       "2     43\n",
       "3     43\n",
       "4     43\n",
       "5     43\n",
       "6     43\n",
       "7     43\n",
       "8     43\n",
       "9     43\n",
       "10    43\n",
       "11    43\n",
       "12    43\n",
       "13    43\n",
       "14    43\n",
       "Name: uid, dtype: int64"
      ]
     },
     "execution_count": 194,
     "metadata": {},
     "output_type": "execute_result"
    }
   ],
   "source": [
    "tickets_df['uid'].apply(len)"
   ]
  },
  {
   "cell_type": "markdown",
   "metadata": {},
   "source": [
    "Ok now that we know what tickets we want to sell, let's push them to the digital twin ecosystem. This is exactly the same as what we did with `Customers` in step one. "
   ]
  },
  {
   "cell_type": "code",
   "execution_count": 195,
   "metadata": {},
   "outputs": [],
   "source": [
    "ticket_twins = []\n",
    "for i in tickets_df.index:\n",
    "    ticket_data = tickets_df.loc[i]\n",
    "    ticket_twin_id = ticket_data['uid']\n",
    "    ticket_json = ticket_data.drop('uid').to_dict()\n",
    "    created_twin = service_client.upsert_digital_twin(ticket_twin_id, ticket_json)\n",
    "    ticket_twins.append(created_twin)"
   ]
  },
  {
   "cell_type": "code",
   "execution_count": 196,
   "metadata": {},
   "outputs": [
    {
     "data": {
      "text/plain": [
       "[{'$dtId': 'ticket-ca0b3ba6-5653-48db-829e-3271c17dd224',\n",
       "  '$etag': 'W/\"117cef08-5877-47a4-8172-8ce828d18904\"',\n",
       "  'event_title': 'Nirvana',\n",
       "  'state': 'open',\n",
       "  'ticket_location': '0',\n",
       "  '$metadata': {'$model': 'dtmi:billmanh:ticket;1',\n",
       "   'event_title': {'lastUpdateTime': '2020-11-26T17:38:43.3819107Z'},\n",
       "   'state': {'lastUpdateTime': '2020-11-26T17:38:43.3819107Z'},\n",
       "   'ticket_location': {'lastUpdateTime': '2020-11-26T17:38:43.3819107Z'}}},\n",
       " {'$dtId': 'ticket-5538331c-e0d6-4338-8657-7022c31abb97',\n",
       "  '$etag': 'W/\"1be26a1f-389a-4d7a-941d-83b782913d43\"',\n",
       "  'event_title': 'Nirvana',\n",
       "  'state': 'open',\n",
       "  'ticket_location': '1',\n",
       "  '$metadata': {'$model': 'dtmi:billmanh:ticket;1',\n",
       "   'event_title': {'lastUpdateTime': '2020-11-26T17:38:43.5023923Z'},\n",
       "   'state': {'lastUpdateTime': '2020-11-26T17:38:43.5023923Z'},\n",
       "   'ticket_location': {'lastUpdateTime': '2020-11-26T17:38:43.5023923Z'}}},\n",
       " {'$dtId': 'ticket-09ada091-8ab9-4ca5-9586-a52fcc498ec0',\n",
       "  '$etag': 'W/\"32345192-3ac2-47d9-8f78-d3f3faebe64b\"',\n",
       "  'event_title': 'Nirvana',\n",
       "  'state': 'open',\n",
       "  'ticket_location': '2',\n",
       "  '$metadata': {'$model': 'dtmi:billmanh:ticket;1',\n",
       "   'event_title': {'lastUpdateTime': '2020-11-26T17:38:43.5896325Z'},\n",
       "   'state': {'lastUpdateTime': '2020-11-26T17:38:43.5896325Z'},\n",
       "   'ticket_location': {'lastUpdateTime': '2020-11-26T17:38:43.5896325Z'}}}]"
      ]
     },
     "execution_count": 196,
     "metadata": {},
     "output_type": "execute_result"
    }
   ],
   "source": [
    "ticket_twins[:3]"
   ]
  },
  {
   "cell_type": "code",
   "execution_count": 190,
   "metadata": {},
   "outputs": [],
   "source": [
    "# for i in tickets_df.index:\n",
    "#     ticket_data = tickets_df.loc[i]\n",
    "#     ticket_twin_id = ticket_data['uid']\n",
    "#     service_client.delete_digital_twin(ticket_twin_id)"
   ]
  },
  {
   "cell_type": "markdown",
   "metadata": {},
   "source": [
    "So now I have `customers` and I have `tickets`, but there is no relationship between them. Let's pretend that I have a website that sells tickets. When a `customer` buys a `ticket` on the website, a relationship between the two is established AND the status of the ticket changes to sold. \n",
    "\n",
    "* website (or mobile app) will tell the user which tickets are still available, and have features that allow them to search by row, or by concert.\n",
    "* the website (or mobile app) gets the latatude and longitude of the user when they buy the tickets. \n",
    "* once purchased, the status of that ticket changes to `sold`. \n"
   ]
  },
  {
   "cell_type": "markdown",
   "metadata": {},
   "source": [
    "# The user experience (mobile app)\n",
    "\n",
    "Here is where the user will buy tickets. \n",
    "\n",
    "This cell is a customer experience. The `customer` enters the website and looks up the available tickets for the show they want. This data comes from the website. "
   ]
  },
  {
   "cell_type": "code",
   "execution_count": 197,
   "metadata": {},
   "outputs": [],
   "source": [
    "# selection from a dropdown menu or something\n",
    "selection_show = 'Nirvana'\n",
    "# just grabbing the first customer. \n",
    "user = df_customers.loc[0]['id']\n",
    "user_lat = np.random.randint(0,100)\n",
    "user_long = np.random.randint(0,100)\n",
    "\n",
    "query_expression = f\"\"\"\n",
    "SELECT * FROM digitaltwins where IS_OF_MODEL('{ticket_model_id}') \n",
    "and state = 'open'\n",
    "and event_title = '{selection_show}'\n",
    "\"\"\"\n",
    "query_result = service_client.query_twins(query_expression)"
   ]
  },
  {
   "cell_type": "markdown",
   "metadata": {},
   "source": [
    "Note that the client dumps records after the query. Try running the cell below a few times. If you need to use the values again and again you need to put them into memory somewhere. "
   ]
  },
  {
   "cell_type": "code",
   "execution_count": 198,
   "metadata": {},
   "outputs": [
    {
     "data": {
      "text/html": [
       "<div>\n",
       "<style scoped>\n",
       "    .dataframe tbody tr th:only-of-type {\n",
       "        vertical-align: middle;\n",
       "    }\n",
       "\n",
       "    .dataframe tbody tr th {\n",
       "        vertical-align: top;\n",
       "    }\n",
       "\n",
       "    .dataframe thead th {\n",
       "        text-align: right;\n",
       "    }\n",
       "</style>\n",
       "<table border=\"1\" class=\"dataframe\">\n",
       "  <thead>\n",
       "    <tr style=\"text-align: right;\">\n",
       "      <th></th>\n",
       "      <th>$dtId</th>\n",
       "      <th>event_title</th>\n",
       "      <th>state</th>\n",
       "    </tr>\n",
       "  </thead>\n",
       "  <tbody>\n",
       "    <tr>\n",
       "      <th>0</th>\n",
       "      <td>ticket-ca0b3ba6-5653-48db-829e-3271c17dd224</td>\n",
       "      <td>Nirvana</td>\n",
       "      <td>open</td>\n",
       "    </tr>\n",
       "    <tr>\n",
       "      <th>1</th>\n",
       "      <td>ticket-5538331c-e0d6-4338-8657-7022c31abb97</td>\n",
       "      <td>Nirvana</td>\n",
       "      <td>open</td>\n",
       "    </tr>\n",
       "    <tr>\n",
       "      <th>2</th>\n",
       "      <td>ticket-09ada091-8ab9-4ca5-9586-a52fcc498ec0</td>\n",
       "      <td>Nirvana</td>\n",
       "      <td>open</td>\n",
       "    </tr>\n",
       "    <tr>\n",
       "      <th>3</th>\n",
       "      <td>ticket-4337bb3a-a556-4c57-80ca-661dd04a875d</td>\n",
       "      <td>Nirvana</td>\n",
       "      <td>open</td>\n",
       "    </tr>\n",
       "    <tr>\n",
       "      <th>4</th>\n",
       "      <td>ticket-974e491b-90d3-4191-a46a-f1c31d3d705e</td>\n",
       "      <td>Nirvana</td>\n",
       "      <td>open</td>\n",
       "    </tr>\n",
       "  </tbody>\n",
       "</table>\n",
       "</div>"
      ],
      "text/plain": [
       "                                         $dtId event_title state\n",
       "0  ticket-ca0b3ba6-5653-48db-829e-3271c17dd224     Nirvana  open\n",
       "1  ticket-5538331c-e0d6-4338-8657-7022c31abb97     Nirvana  open\n",
       "2  ticket-09ada091-8ab9-4ca5-9586-a52fcc498ec0     Nirvana  open\n",
       "3  ticket-4337bb3a-a556-4c57-80ca-661dd04a875d     Nirvana  open\n",
       "4  ticket-974e491b-90d3-4191-a46a-f1c31d3d705e     Nirvana  open"
      ]
     },
     "execution_count": 198,
     "metadata": {},
     "output_type": "execute_result"
    }
   ],
   "source": [
    "available_tickets_df = pd.DataFrame([[i['$dtId'],i['event_title'],i['state']] for i in query_result],\n",
    "                                   columns = ['$dtId','event_title','state'])\n",
    "available_tickets_df"
   ]
  },
  {
   "cell_type": "markdown",
   "metadata": {},
   "source": [
    "Now the user chooses to buy a ticket. The ticket state changes to closed."
   ]
  },
  {
   "cell_type": "code",
   "execution_count": 199,
   "metadata": {},
   "outputs": [
    {
     "data": {
      "text/plain": [
       "{'$dtId': 'ticket-ca0b3ba6-5653-48db-829e-3271c17dd224',\n",
       " '$etag': 'W/\"117cef08-5877-47a4-8172-8ce828d18904\"',\n",
       " 'event_title': 'Nirvana',\n",
       " 'state': 'open',\n",
       " 'ticket_location': '0',\n",
       " '$metadata': {'$model': 'dtmi:billmanh:ticket;1',\n",
       "  'event_title': {'lastUpdateTime': '2020-11-26T17:38:43.3819107Z'},\n",
       "  'state': {'lastUpdateTime': '2020-11-26T17:38:43.3819107Z'},\n",
       "  'ticket_location': {'lastUpdateTime': '2020-11-26T17:38:43.3819107Z'}}}"
      ]
     },
     "execution_count": 199,
     "metadata": {},
     "output_type": "execute_result"
    }
   ],
   "source": [
    "customer_selection = available_tickets_df.loc[0]['$dtId']\n",
    "\n",
    "service_client.get_digital_twin(customer_selection)"
   ]
  },
  {
   "cell_type": "code",
   "execution_count": 200,
   "metadata": {},
   "outputs": [],
   "source": [
    "customer_selection = available_tickets_df.loc[0]['$dtId']\n",
    "\n",
    "patch = [\n",
    "    {\n",
    "        \"op\": \"replace\",\n",
    "        \"path\": \"\",\n",
    "        \"value\": \"sold\"\n",
    "    }\n",
    "]\n",
    "service_client.update_component(customer_selection,\"state\", patch)"
   ]
  },
  {
   "cell_type": "markdown",
   "metadata": {},
   "source": [
    "**NOTE** that the path is `\"\"` when the item is at the root of the state."
   ]
  },
  {
   "cell_type": "code",
   "execution_count": 202,
   "metadata": {},
   "outputs": [
    {
     "data": {
      "text/html": [
       "<div>\n",
       "<style scoped>\n",
       "    .dataframe tbody tr th:only-of-type {\n",
       "        vertical-align: middle;\n",
       "    }\n",
       "\n",
       "    .dataframe tbody tr th {\n",
       "        vertical-align: top;\n",
       "    }\n",
       "\n",
       "    .dataframe thead th {\n",
       "        text-align: right;\n",
       "    }\n",
       "</style>\n",
       "<table border=\"1\" class=\"dataframe\">\n",
       "  <thead>\n",
       "    <tr style=\"text-align: right;\">\n",
       "      <th></th>\n",
       "      <th>$dtId</th>\n",
       "      <th>event_title</th>\n",
       "      <th>state</th>\n",
       "    </tr>\n",
       "  </thead>\n",
       "  <tbody>\n",
       "    <tr>\n",
       "      <th>0</th>\n",
       "      <td>ticket-ca0b3ba6-5653-48db-829e-3271c17dd224</td>\n",
       "      <td>Nirvana</td>\n",
       "      <td>sold</td>\n",
       "    </tr>\n",
       "    <tr>\n",
       "      <th>1</th>\n",
       "      <td>ticket-5538331c-e0d6-4338-8657-7022c31abb97</td>\n",
       "      <td>Nirvana</td>\n",
       "      <td>open</td>\n",
       "    </tr>\n",
       "    <tr>\n",
       "      <th>2</th>\n",
       "      <td>ticket-09ada091-8ab9-4ca5-9586-a52fcc498ec0</td>\n",
       "      <td>Nirvana</td>\n",
       "      <td>open</td>\n",
       "    </tr>\n",
       "    <tr>\n",
       "      <th>3</th>\n",
       "      <td>ticket-4337bb3a-a556-4c57-80ca-661dd04a875d</td>\n",
       "      <td>Nirvana</td>\n",
       "      <td>open</td>\n",
       "    </tr>\n",
       "    <tr>\n",
       "      <th>4</th>\n",
       "      <td>ticket-974e491b-90d3-4191-a46a-f1c31d3d705e</td>\n",
       "      <td>Nirvana</td>\n",
       "      <td>open</td>\n",
       "    </tr>\n",
       "  </tbody>\n",
       "</table>\n",
       "</div>"
      ],
      "text/plain": [
       "                                         $dtId event_title state\n",
       "0  ticket-ca0b3ba6-5653-48db-829e-3271c17dd224     Nirvana  sold\n",
       "1  ticket-5538331c-e0d6-4338-8657-7022c31abb97     Nirvana  open\n",
       "2  ticket-09ada091-8ab9-4ca5-9586-a52fcc498ec0     Nirvana  open\n",
       "3  ticket-4337bb3a-a556-4c57-80ca-661dd04a875d     Nirvana  open\n",
       "4  ticket-974e491b-90d3-4191-a46a-f1c31d3d705e     Nirvana  open"
      ]
     },
     "execution_count": 202,
     "metadata": {},
     "output_type": "execute_result"
    }
   ],
   "source": [
    "query_expression = f\"\"\"\n",
    "SELECT * FROM digitaltwins where IS_OF_MODEL('{ticket_model_id}') \n",
    "and event_title = '{selection_show}'\n",
    "\"\"\"\n",
    "query_result = service_client.query_twins(query_expression)\n",
    "available_tickets_df = pd.DataFrame([[i['$dtId'],i['event_title'],i['state']] for i in query_result],\n",
    "                                   columns = ['$dtId','event_title','state'])\n",
    "available_tickets_df"
   ]
  },
  {
   "cell_type": "markdown",
   "metadata": {},
   "source": [
    "Relationships: \n",
    "* the target is the leaf (or the customer)\n",
    "* the source is the branch (or the ticket)\n",
    "\n",
    "you can add extra stuff to the relationship. "
   ]
  },
  {
   "cell_type": "code",
   "execution_count": 211,
   "metadata": {},
   "outputs": [
    {
     "name": "stdout",
     "output_type": "stream",
     "text": [
      "ticket-ca0b3ba6-5653-48db-829e-3271c17dd224\n",
      "customer-cc04f3b6-39b0-4cef-bfff-a7d668cce446\n"
     ]
    }
   ],
   "source": [
    "print(customer_selection)\n",
    "print(user)"
   ]
  },
  {
   "cell_type": "code",
   "execution_count": 203,
   "metadata": {},
   "outputs": [
    {
     "ename": "HttpResponseError",
     "evalue": "(InvalidRelationship) Twin relationship does not align with the model. Please ensure that the relationship is in alignment with the model. See section on listing models http://aka.ms/adtv2models.",
     "output_type": "error",
     "traceback": [
      "\u001b[1;31m---------------------------------------------------------------------------\u001b[0m",
      "\u001b[1;31mHttpResponseError\u001b[0m                         Traceback (most recent call last)",
      "\u001b[1;32m<ipython-input-203-d88e389b9b5b>\u001b[0m in \u001b[0;36m<module>\u001b[1;34m\u001b[0m\n\u001b[0;32m     10\u001b[0m         \u001b[0mtickethoder_relationship\u001b[0m\u001b[1;33m[\u001b[0m\u001b[1;34m\"$sourceId\"\u001b[0m\u001b[1;33m]\u001b[0m\u001b[1;33m,\u001b[0m\u001b[1;33m\u001b[0m\u001b[1;33m\u001b[0m\u001b[0m\n\u001b[0;32m     11\u001b[0m         \u001b[0mtickethoder_relationship\u001b[0m\u001b[1;33m[\u001b[0m\u001b[1;34m\"$relationshipId\"\u001b[0m\u001b[1;33m]\u001b[0m\u001b[1;33m,\u001b[0m\u001b[1;33m\u001b[0m\u001b[1;33m\u001b[0m\u001b[0m\n\u001b[1;32m---> 12\u001b[1;33m         \u001b[0mtickethoder_relationship\u001b[0m\u001b[1;33m\u001b[0m\u001b[1;33m\u001b[0m\u001b[0m\n\u001b[0m\u001b[0;32m     13\u001b[0m     )\n",
      "\u001b[1;32m~\\Anaconda3\\lib\\site-packages\\azure\\core\\tracing\\decorator.py\u001b[0m in \u001b[0;36mwrapper_use_tracer\u001b[1;34m(*args, **kwargs)\u001b[0m\n\u001b[0;32m     81\u001b[0m             \u001b[0mspan_impl_type\u001b[0m \u001b[1;33m=\u001b[0m \u001b[0msettings\u001b[0m\u001b[1;33m.\u001b[0m\u001b[0mtracing_implementation\u001b[0m\u001b[1;33m(\u001b[0m\u001b[1;33m)\u001b[0m\u001b[1;33m\u001b[0m\u001b[1;33m\u001b[0m\u001b[0m\n\u001b[0;32m     82\u001b[0m             \u001b[1;32mif\u001b[0m \u001b[0mspan_impl_type\u001b[0m \u001b[1;32mis\u001b[0m \u001b[1;32mNone\u001b[0m\u001b[1;33m:\u001b[0m\u001b[1;33m\u001b[0m\u001b[1;33m\u001b[0m\u001b[0m\n\u001b[1;32m---> 83\u001b[1;33m                 \u001b[1;32mreturn\u001b[0m \u001b[0mfunc\u001b[0m\u001b[1;33m(\u001b[0m\u001b[1;33m*\u001b[0m\u001b[0margs\u001b[0m\u001b[1;33m,\u001b[0m \u001b[1;33m**\u001b[0m\u001b[0mkwargs\u001b[0m\u001b[1;33m)\u001b[0m\u001b[1;33m\u001b[0m\u001b[1;33m\u001b[0m\u001b[0m\n\u001b[0m\u001b[0;32m     84\u001b[0m \u001b[1;33m\u001b[0m\u001b[0m\n\u001b[0;32m     85\u001b[0m             \u001b[1;31m# Merge span is parameter is set, but only if no explicit parent are passed\u001b[0m\u001b[1;33m\u001b[0m\u001b[1;33m\u001b[0m\u001b[1;33m\u001b[0m\u001b[0m\n",
      "\u001b[1;32m~\\Anaconda3\\lib\\site-packages\\azure\\digitaltwins\\core\\_digitaltwins_client.py\u001b[0m in \u001b[0;36mupsert_relationship\u001b[1;34m(self, digital_twin_id, relationship_id, relationship, **kwargs)\u001b[0m\n\u001b[0;32m    273\u001b[0m             \u001b[0mdigital_twins_add_relationship_options\u001b[0m\u001b[1;33m=\u001b[0m\u001b[0moptions\u001b[0m\u001b[1;33m,\u001b[0m\u001b[1;33m\u001b[0m\u001b[1;33m\u001b[0m\u001b[0m\n\u001b[0;32m    274\u001b[0m             \u001b[0merror_map\u001b[0m\u001b[1;33m=\u001b[0m\u001b[0merror_map\u001b[0m\u001b[1;33m,\u001b[0m\u001b[1;33m\u001b[0m\u001b[1;33m\u001b[0m\u001b[0m\n\u001b[1;32m--> 275\u001b[1;33m             \u001b[1;33m**\u001b[0m\u001b[0mkwargs\u001b[0m\u001b[1;33m\u001b[0m\u001b[1;33m\u001b[0m\u001b[0m\n\u001b[0m\u001b[0;32m    276\u001b[0m         )\n\u001b[0;32m    277\u001b[0m \u001b[1;33m\u001b[0m\u001b[0m\n",
      "\u001b[1;32m~\\Anaconda3\\lib\\site-packages\\azure\\digitaltwins\\core\\_generated\\operations\\_digital_twins_operations.py\u001b[0m in \u001b[0;36madd_relationship\u001b[1;34m(self, id, relationship_id, relationship, digital_twins_add_relationship_options, **kwargs)\u001b[0m\n\u001b[0;32m    590\u001b[0m             \u001b[0mmap_error\u001b[0m\u001b[1;33m(\u001b[0m\u001b[0mstatus_code\u001b[0m\u001b[1;33m=\u001b[0m\u001b[0mresponse\u001b[0m\u001b[1;33m.\u001b[0m\u001b[0mstatus_code\u001b[0m\u001b[1;33m,\u001b[0m \u001b[0mresponse\u001b[0m\u001b[1;33m=\u001b[0m\u001b[0mresponse\u001b[0m\u001b[1;33m,\u001b[0m \u001b[0merror_map\u001b[0m\u001b[1;33m=\u001b[0m\u001b[0merror_map\u001b[0m\u001b[1;33m)\u001b[0m\u001b[1;33m\u001b[0m\u001b[1;33m\u001b[0m\u001b[0m\n\u001b[0;32m    591\u001b[0m             \u001b[0merror\u001b[0m \u001b[1;33m=\u001b[0m \u001b[0mself\u001b[0m\u001b[1;33m.\u001b[0m\u001b[0m_deserialize\u001b[0m\u001b[1;33m(\u001b[0m\u001b[0m_models\u001b[0m\u001b[1;33m.\u001b[0m\u001b[0mErrorResponse\u001b[0m\u001b[1;33m,\u001b[0m \u001b[0mresponse\u001b[0m\u001b[1;33m)\u001b[0m\u001b[1;33m\u001b[0m\u001b[1;33m\u001b[0m\u001b[0m\n\u001b[1;32m--> 592\u001b[1;33m             \u001b[1;32mraise\u001b[0m \u001b[0mHttpResponseError\u001b[0m\u001b[1;33m(\u001b[0m\u001b[0mresponse\u001b[0m\u001b[1;33m=\u001b[0m\u001b[0mresponse\u001b[0m\u001b[1;33m,\u001b[0m \u001b[0mmodel\u001b[0m\u001b[1;33m=\u001b[0m\u001b[0merror\u001b[0m\u001b[1;33m)\u001b[0m\u001b[1;33m\u001b[0m\u001b[1;33m\u001b[0m\u001b[0m\n\u001b[0m\u001b[0;32m    593\u001b[0m \u001b[1;33m\u001b[0m\u001b[0m\n\u001b[0;32m    594\u001b[0m         \u001b[0mresponse_headers\u001b[0m \u001b[1;33m=\u001b[0m \u001b[1;33m{\u001b[0m\u001b[1;33m}\u001b[0m\u001b[1;33m\u001b[0m\u001b[1;33m\u001b[0m\u001b[0m\n",
      "\u001b[1;31mHttpResponseError\u001b[0m: (InvalidRelationship) Twin relationship does not align with the model. Please ensure that the relationship is in alignment with the model. See section on listing models http://aka.ms/adtv2models."
     ]
    }
   ],
   "source": [
    "tickethoder_relationship = {\n",
    "        \"$relationshipId\": f\"{customer_selection}ownedBy{user}\",\n",
    "        \"$sourceId\": customer_selection,\n",
    "        \"$relationshipName\": \"ownedBy\",\n",
    "        \"$targetId\": user,\n",
    "        \"bought_online\": True\n",
    "    }\n",
    "\n",
    "service_client.upsert_relationship(\n",
    "        tickethoder_relationship[\"$sourceId\"],\n",
    "        tickethoder_relationship[\"$relationshipId\"],\n",
    "        tickethoder_relationship\n",
    "    )"
   ]
  },
  {
   "cell_type": "code",
   "execution_count": null,
   "metadata": {},
   "outputs": [],
   "source": []
  }
 ],
 "metadata": {
  "kernelspec": {
   "display_name": "Python (azure_test)",
   "language": "python",
   "name": "azure_test"
  },
  "language_info": {
   "codemirror_mode": {
    "name": "ipython",
    "version": 3
   },
   "file_extension": ".py",
   "mimetype": "text/x-python",
   "name": "python",
   "nbconvert_exporter": "python",
   "pygments_lexer": "ipython3",
   "version": "3.7.7"
  }
 },
 "nbformat": 4,
 "nbformat_minor": 4
}

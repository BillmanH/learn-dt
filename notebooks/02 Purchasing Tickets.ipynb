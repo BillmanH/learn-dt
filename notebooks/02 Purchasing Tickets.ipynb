{
 "cells": [
  {
   "cell_type": "markdown",
   "metadata": {},
   "source": [
    "# Purchasing tickets\n",
    "## An example use case of the Digital Twin\n",
    "\n",
    "This example just includes:\n",
    "* Connecting\n",
    "* Building relationships between models\n",
    "* Updating values\n",
    "* Modifying the relationships and updating twins\n",
    "* Querying twins by relationship\n",
    "\n",
    "In the previous scenario we made a bunch of customers. In this scenario we built a bunch of individual users \n",
    "[This is the SDK repo on Github](https://github.com/Azure/azure-sdk-for-python/tree/4559e19e2f3146a49f1eba1706bb798071f4a1f5/sdk/digitaltwins/azure-digitaltwins-core)\n",
    "\n",
    "[Here is the doc on the query language](https://docs.microsoft.com/en-us/azure/digital-twins/concepts-query-language)\n"
   ]
  },
  {
   "cell_type": "code",
   "execution_count": 1,
   "metadata": {},
   "outputs": [
    {
     "data": {
      "text/plain": [
       "<azure.digitaltwins.core._digitaltwins_client.DigitalTwinsClient at 0x23d82807a88>"
      ]
     },
     "execution_count": 1,
     "metadata": {},
     "output_type": "execute_result"
    }
   ],
   "source": [
    "from azure.identity import AzureCliCredential\n",
    "from azure.digitaltwins.core import DigitalTwinsClient\n",
    "\n",
    "# using yaml instead of \n",
    "import yaml\n",
    "import uuid\n",
    "\n",
    "# using altair instead of matplotlib for vizuals\n",
    "import altair as alt\n",
    "from vega_datasets import data\n",
    "import numpy as np\n",
    "import pandas as pd\n",
    "\n",
    "\n",
    "azure_cli = AzureCliCredential()\n",
    "service_client = DigitalTwinsClient(\n",
    "    \"home-test-twin.api.wcus.digitaltwins.azure.net\", azure_cli)\n",
    "service_client"
   ]
  },
  {
   "cell_type": "markdown",
   "metadata": {},
   "source": [
    "So from the previous notebook we uploaded some models. "
   ]
  },
  {
   "cell_type": "code",
   "execution_count": 2,
   "metadata": {},
   "outputs": [
    {
     "data": {
      "text/plain": [
       "{'display_name': {'en': 'Patron'},\n",
       " 'description': {'en': 'As an example, contains all of the properties possible in the DTDL.'},\n",
       " 'id': 'dtmi:billmanh:patron;1',\n",
       " 'upload_time': '2020-11-19T02:14:27.21094Z',\n",
       " 'decommissioned': False}"
      ]
     },
     "execution_count": 2,
     "metadata": {},
     "output_type": "execute_result"
    }
   ],
   "source": [
    "patron = service_client.get_model(\"dtmi:billmanh:patron;1\")\n",
    "patron.as_dict()"
   ]
  },
  {
   "cell_type": "markdown",
   "metadata": {},
   "source": [
    "And we have a number of `cusotmers` in our ecosystem that are made from the `patron` model. "
   ]
  },
  {
   "cell_type": "code",
   "execution_count": 40,
   "metadata": {},
   "outputs": [],
   "source": [
    "query_expression = \"SELECT * FROM digitaltwins t where IS_OF_MODEL('dtmi:billmanh:patron;1')\"\n",
    "query_result = service_client.query_twins(query_expression)\n"
   ]
  },
  {
   "cell_type": "markdown",
   "metadata": {},
   "source": [
    "**Note** the query object loves to drop values. To keep from making multiple queries, save the data somewhere. "
   ]
  },
  {
   "cell_type": "code",
   "execution_count": 41,
   "metadata": {},
   "outputs": [],
   "source": [
    "values = []\n",
    "for i in query_result:\n",
    "    values.append(i)"
   ]
  },
  {
   "cell_type": "code",
   "execution_count": 43,
   "metadata": {},
   "outputs": [],
   "source": [
    "df_customers = pd.DataFrame([[i['$dtId'],i['satisfaction']] for i in values],\n",
    "                           columns=['id','satisfaction'])"
   ]
  },
  {
   "cell_type": "code",
   "execution_count": 44,
   "metadata": {},
   "outputs": [
    {
     "data": {
      "text/html": [
       "<div>\n",
       "<style scoped>\n",
       "    .dataframe tbody tr th:only-of-type {\n",
       "        vertical-align: middle;\n",
       "    }\n",
       "\n",
       "    .dataframe tbody tr th {\n",
       "        vertical-align: top;\n",
       "    }\n",
       "\n",
       "    .dataframe thead th {\n",
       "        text-align: right;\n",
       "    }\n",
       "</style>\n",
       "<table border=\"1\" class=\"dataframe\">\n",
       "  <thead>\n",
       "    <tr style=\"text-align: right;\">\n",
       "      <th></th>\n",
       "      <th>id</th>\n",
       "      <th>satisfaction</th>\n",
       "    </tr>\n",
       "  </thead>\n",
       "  <tbody>\n",
       "    <tr>\n",
       "      <th>0</th>\n",
       "      <td>customer-cc04f3b6-39b0-4cef-bfff-a7d668cce446</td>\n",
       "      <td>10</td>\n",
       "    </tr>\n",
       "    <tr>\n",
       "      <th>1</th>\n",
       "      <td>customer-3cbd5e60-957d-44ff-944f-9adb42a20a52</td>\n",
       "      <td>10</td>\n",
       "    </tr>\n",
       "    <tr>\n",
       "      <th>2</th>\n",
       "      <td>customer-5c454e2f-f70b-4352-b75a-958f1a49beba</td>\n",
       "      <td>7</td>\n",
       "    </tr>\n",
       "    <tr>\n",
       "      <th>3</th>\n",
       "      <td>customer-26196fee-5ffd-457a-86b7-192a998f3cf2</td>\n",
       "      <td>9</td>\n",
       "    </tr>\n",
       "    <tr>\n",
       "      <th>4</th>\n",
       "      <td>customer-e6f49d8a-711b-41c3-9db8-c7ece3dbc32c</td>\n",
       "      <td>7</td>\n",
       "    </tr>\n",
       "    <tr>\n",
       "      <th>...</th>\n",
       "      <td>...</td>\n",
       "      <td>...</td>\n",
       "    </tr>\n",
       "    <tr>\n",
       "      <th>79</th>\n",
       "      <td>customer-45e9aa03-733d-4a99-b9d5-94f1c6b04214</td>\n",
       "      <td>9</td>\n",
       "    </tr>\n",
       "    <tr>\n",
       "      <th>80</th>\n",
       "      <td>customer-0234cb48-1fa2-43e0-b69d-36a6ff269666</td>\n",
       "      <td>9</td>\n",
       "    </tr>\n",
       "    <tr>\n",
       "      <th>81</th>\n",
       "      <td>customer-75b2f757-faee-4a85-bc93-e6e9ff7cd891</td>\n",
       "      <td>6</td>\n",
       "    </tr>\n",
       "    <tr>\n",
       "      <th>82</th>\n",
       "      <td>customer-048f85a8-173e-4305-92b8-ead2a748b07f</td>\n",
       "      <td>8</td>\n",
       "    </tr>\n",
       "    <tr>\n",
       "      <th>83</th>\n",
       "      <td>customer-25e19268-3433-4f09-afe3-94f466313368</td>\n",
       "      <td>10</td>\n",
       "    </tr>\n",
       "  </tbody>\n",
       "</table>\n",
       "<p>84 rows × 2 columns</p>\n",
       "</div>"
      ],
      "text/plain": [
       "                                               id  satisfaction\n",
       "0   customer-cc04f3b6-39b0-4cef-bfff-a7d668cce446            10\n",
       "1   customer-3cbd5e60-957d-44ff-944f-9adb42a20a52            10\n",
       "2   customer-5c454e2f-f70b-4352-b75a-958f1a49beba             7\n",
       "3   customer-26196fee-5ffd-457a-86b7-192a998f3cf2             9\n",
       "4   customer-e6f49d8a-711b-41c3-9db8-c7ece3dbc32c             7\n",
       "..                                            ...           ...\n",
       "79  customer-45e9aa03-733d-4a99-b9d5-94f1c6b04214             9\n",
       "80  customer-0234cb48-1fa2-43e0-b69d-36a6ff269666             9\n",
       "81  customer-75b2f757-faee-4a85-bc93-e6e9ff7cd891             6\n",
       "82  customer-048f85a8-173e-4305-92b8-ead2a748b07f             8\n",
       "83  customer-25e19268-3433-4f09-afe3-94f466313368            10\n",
       "\n",
       "[84 rows x 2 columns]"
      ]
     },
     "execution_count": 44,
     "metadata": {},
     "output_type": "execute_result"
    }
   ],
   "source": [
    "df_customers"
   ]
  },
  {
   "cell_type": "markdown",
   "metadata": {},
   "source": [
    "Let's add another model for `tickets`.  In our very simple model, we will assume that `customers` will buy `tickets` to our events."
   ]
  },
  {
   "cell_type": "code",
   "execution_count": 53,
   "metadata": {},
   "outputs": [],
   "source": [
    "# service_client.delete_model(ticket_model_id)"
   ]
  },
  {
   "cell_type": "code",
   "execution_count": 52,
   "metadata": {},
   "outputs": [
    {
     "data": {
      "text/plain": [
       "[<azure.digitaltwins.core._generated.models._models_py3.DigitalTwinsModelData at 0x23d88570648>]"
      ]
     },
     "execution_count": 52,
     "metadata": {},
     "output_type": "execute_result"
    }
   ],
   "source": [
    "ticket_model_json = yaml.safe_load(open(\"../models/ticket.json\"))\n",
    "service_client.create_models([ticket_model_json])"
   ]
  },
  {
   "cell_type": "code",
   "execution_count": 54,
   "metadata": {},
   "outputs": [
    {
     "data": {
      "text/plain": [
       "{'display_name': {'en': 'ticket'},\n",
       " 'description': {'en': 'an abstract ticket'},\n",
       " 'id': 'dtmi:billmanh:ticket;1',\n",
       " 'upload_time': '2020-11-26T20:12:34.578813Z',\n",
       " 'decommissioned': False}"
      ]
     },
     "execution_count": 54,
     "metadata": {},
     "output_type": "execute_result"
    }
   ],
   "source": [
    "ticket_model_id = \"dtmi:billmanh:ticket;1\"\n",
    "get_model = service_client.get_model(ticket_model_id)\n",
    "get_model.as_dict()"
   ]
  },
  {
   "cell_type": "markdown",
   "metadata": {},
   "source": [
    "Note that the dict returned from the service doesn't contain all of the values that you created, but that's ok. "
   ]
  },
  {
   "cell_type": "code",
   "execution_count": 55,
   "metadata": {},
   "outputs": [],
   "source": [
    "def generate_twin(name,model_id):\n",
    "    digital_twin_id = f'{name}-{str(uuid.uuid4())}'\n",
    "    dt_json = {\n",
    "        \"$metadata\": {\n",
    "            \"$model\": model_id\n",
    "        }\n",
    "    }\n",
    "    return digital_twin_id,dt_json\n",
    "\n",
    "def updsert_twin():\n",
    "    created_twin = service_client.upsert_digital_twin(digital_twin_id, dt_json)\n",
    "    return created_twin"
   ]
  },
  {
   "cell_type": "code",
   "execution_count": 56,
   "metadata": {},
   "outputs": [],
   "source": [
    "ticket_id, ticket_json = generate_twin(\"ticket\",ticket_model_id)"
   ]
  },
  {
   "cell_type": "code",
   "execution_count": 57,
   "metadata": {},
   "outputs": [
    {
     "data": {
      "text/plain": [
       "{'$metadata': {'$model': 'dtmi:billmanh:ticket;1'}}"
      ]
     },
     "execution_count": 57,
     "metadata": {},
     "output_type": "execute_result"
    }
   ],
   "source": [
    "ticket_json"
   ]
  },
  {
   "cell_type": "markdown",
   "metadata": {},
   "source": [
    "So when I create the `tickets` i'm going to create them as unsold (`available`) and for a range of events. I'm just going to introduce some tickets into the system for some shows coming up. These tickets just exist locally at this point, but we will 'go live' when we push them into the ecosystem. "
   ]
  },
  {
   "cell_type": "code",
   "execution_count": 58,
   "metadata": {},
   "outputs": [
    {
     "data": {
      "text/html": [
       "<div>\n",
       "<style scoped>\n",
       "    .dataframe tbody tr th:only-of-type {\n",
       "        vertical-align: middle;\n",
       "    }\n",
       "\n",
       "    .dataframe tbody tr th {\n",
       "        vertical-align: top;\n",
       "    }\n",
       "\n",
       "    .dataframe thead th {\n",
       "        text-align: right;\n",
       "    }\n",
       "</style>\n",
       "<table border=\"1\" class=\"dataframe\">\n",
       "  <thead>\n",
       "    <tr style=\"text-align: right;\">\n",
       "      <th></th>\n",
       "      <th>$metadata</th>\n",
       "      <th>event_title</th>\n",
       "      <th>state</th>\n",
       "      <th>ticket_location</th>\n",
       "      <th>uid</th>\n",
       "    </tr>\n",
       "  </thead>\n",
       "  <tbody>\n",
       "    <tr>\n",
       "      <th>0</th>\n",
       "      <td>{'$model': 'dtmi:billmanh:ticket;1'}</td>\n",
       "      <td>Nirvana</td>\n",
       "      <td>open</td>\n",
       "      <td>0</td>\n",
       "      <td>ticket-600f2149-1ed8-4cb4-b0b8-bb6d03f575cd</td>\n",
       "    </tr>\n",
       "    <tr>\n",
       "      <th>1</th>\n",
       "      <td>{'$model': 'dtmi:billmanh:ticket;1'}</td>\n",
       "      <td>Nirvana</td>\n",
       "      <td>open</td>\n",
       "      <td>1</td>\n",
       "      <td>ticket-b8860b9b-cc54-4591-abb3-2abc3adc0800</td>\n",
       "    </tr>\n",
       "    <tr>\n",
       "      <th>2</th>\n",
       "      <td>{'$model': 'dtmi:billmanh:ticket;1'}</td>\n",
       "      <td>Nirvana</td>\n",
       "      <td>open</td>\n",
       "      <td>2</td>\n",
       "      <td>ticket-2256b8c9-1dd8-4ef8-a00a-b191dc122532</td>\n",
       "    </tr>\n",
       "    <tr>\n",
       "      <th>3</th>\n",
       "      <td>{'$model': 'dtmi:billmanh:ticket;1'}</td>\n",
       "      <td>Nirvana</td>\n",
       "      <td>open</td>\n",
       "      <td>3</td>\n",
       "      <td>ticket-132839a8-a4a3-4c75-ae96-9ff4085a07d4</td>\n",
       "    </tr>\n",
       "    <tr>\n",
       "      <th>4</th>\n",
       "      <td>{'$model': 'dtmi:billmanh:ticket;1'}</td>\n",
       "      <td>Nirvana</td>\n",
       "      <td>open</td>\n",
       "      <td>4</td>\n",
       "      <td>ticket-99023c6e-5d97-4e43-ab08-3d893233c8b0</td>\n",
       "    </tr>\n",
       "    <tr>\n",
       "      <th>5</th>\n",
       "      <td>{'$model': 'dtmi:billmanh:ticket;1'}</td>\n",
       "      <td>Smashing Pumpkins</td>\n",
       "      <td>open</td>\n",
       "      <td>0</td>\n",
       "      <td>ticket-18663c82-67a2-4791-b1c4-05db261af867</td>\n",
       "    </tr>\n",
       "    <tr>\n",
       "      <th>6</th>\n",
       "      <td>{'$model': 'dtmi:billmanh:ticket;1'}</td>\n",
       "      <td>Smashing Pumpkins</td>\n",
       "      <td>open</td>\n",
       "      <td>1</td>\n",
       "      <td>ticket-79f3f382-bd65-4788-8ad1-0db507b8a3ab</td>\n",
       "    </tr>\n",
       "    <tr>\n",
       "      <th>7</th>\n",
       "      <td>{'$model': 'dtmi:billmanh:ticket;1'}</td>\n",
       "      <td>Smashing Pumpkins</td>\n",
       "      <td>open</td>\n",
       "      <td>2</td>\n",
       "      <td>ticket-9f7c0906-9729-4568-a559-89d63b634d09</td>\n",
       "    </tr>\n",
       "    <tr>\n",
       "      <th>8</th>\n",
       "      <td>{'$model': 'dtmi:billmanh:ticket;1'}</td>\n",
       "      <td>Smashing Pumpkins</td>\n",
       "      <td>open</td>\n",
       "      <td>3</td>\n",
       "      <td>ticket-633f4537-50a1-4735-9e70-99bf19be51e4</td>\n",
       "    </tr>\n",
       "    <tr>\n",
       "      <th>9</th>\n",
       "      <td>{'$model': 'dtmi:billmanh:ticket;1'}</td>\n",
       "      <td>Smashing Pumpkins</td>\n",
       "      <td>open</td>\n",
       "      <td>4</td>\n",
       "      <td>ticket-52e25a0a-06b1-428f-b6a2-479cafc45c16</td>\n",
       "    </tr>\n",
       "    <tr>\n",
       "      <th>10</th>\n",
       "      <td>{'$model': 'dtmi:billmanh:ticket;1'}</td>\n",
       "      <td>Foo Fighters</td>\n",
       "      <td>open</td>\n",
       "      <td>0</td>\n",
       "      <td>ticket-ca767da7-0152-4861-9be6-fbe39b5dd9d8</td>\n",
       "    </tr>\n",
       "    <tr>\n",
       "      <th>11</th>\n",
       "      <td>{'$model': 'dtmi:billmanh:ticket;1'}</td>\n",
       "      <td>Foo Fighters</td>\n",
       "      <td>open</td>\n",
       "      <td>1</td>\n",
       "      <td>ticket-0cd531c6-d81c-4c4c-84c9-9592a8f43e70</td>\n",
       "    </tr>\n",
       "    <tr>\n",
       "      <th>12</th>\n",
       "      <td>{'$model': 'dtmi:billmanh:ticket;1'}</td>\n",
       "      <td>Foo Fighters</td>\n",
       "      <td>open</td>\n",
       "      <td>2</td>\n",
       "      <td>ticket-58bf00bf-d5b8-4d06-9002-f8bf1693cc56</td>\n",
       "    </tr>\n",
       "    <tr>\n",
       "      <th>13</th>\n",
       "      <td>{'$model': 'dtmi:billmanh:ticket;1'}</td>\n",
       "      <td>Foo Fighters</td>\n",
       "      <td>open</td>\n",
       "      <td>3</td>\n",
       "      <td>ticket-67f3cbfb-4b35-4e10-bf6d-3fd216093c3c</td>\n",
       "    </tr>\n",
       "    <tr>\n",
       "      <th>14</th>\n",
       "      <td>{'$model': 'dtmi:billmanh:ticket;1'}</td>\n",
       "      <td>Foo Fighters</td>\n",
       "      <td>open</td>\n",
       "      <td>4</td>\n",
       "      <td>ticket-3f82286d-7e0b-4df5-a491-d9e28f7c94f9</td>\n",
       "    </tr>\n",
       "  </tbody>\n",
       "</table>\n",
       "</div>"
      ],
      "text/plain": [
       "                               $metadata        event_title state  \\\n",
       "0   {'$model': 'dtmi:billmanh:ticket;1'}            Nirvana  open   \n",
       "1   {'$model': 'dtmi:billmanh:ticket;1'}            Nirvana  open   \n",
       "2   {'$model': 'dtmi:billmanh:ticket;1'}            Nirvana  open   \n",
       "3   {'$model': 'dtmi:billmanh:ticket;1'}            Nirvana  open   \n",
       "4   {'$model': 'dtmi:billmanh:ticket;1'}            Nirvana  open   \n",
       "5   {'$model': 'dtmi:billmanh:ticket;1'}  Smashing Pumpkins  open   \n",
       "6   {'$model': 'dtmi:billmanh:ticket;1'}  Smashing Pumpkins  open   \n",
       "7   {'$model': 'dtmi:billmanh:ticket;1'}  Smashing Pumpkins  open   \n",
       "8   {'$model': 'dtmi:billmanh:ticket;1'}  Smashing Pumpkins  open   \n",
       "9   {'$model': 'dtmi:billmanh:ticket;1'}  Smashing Pumpkins  open   \n",
       "10  {'$model': 'dtmi:billmanh:ticket;1'}       Foo Fighters  open   \n",
       "11  {'$model': 'dtmi:billmanh:ticket;1'}       Foo Fighters  open   \n",
       "12  {'$model': 'dtmi:billmanh:ticket;1'}       Foo Fighters  open   \n",
       "13  {'$model': 'dtmi:billmanh:ticket;1'}       Foo Fighters  open   \n",
       "14  {'$model': 'dtmi:billmanh:ticket;1'}       Foo Fighters  open   \n",
       "\n",
       "    ticket_location                                          uid  \n",
       "0                 0  ticket-600f2149-1ed8-4cb4-b0b8-bb6d03f575cd  \n",
       "1                 1  ticket-b8860b9b-cc54-4591-abb3-2abc3adc0800  \n",
       "2                 2  ticket-2256b8c9-1dd8-4ef8-a00a-b191dc122532  \n",
       "3                 3  ticket-132839a8-a4a3-4c75-ae96-9ff4085a07d4  \n",
       "4                 4  ticket-99023c6e-5d97-4e43-ab08-3d893233c8b0  \n",
       "5                 0  ticket-18663c82-67a2-4791-b1c4-05db261af867  \n",
       "6                 1  ticket-79f3f382-bd65-4788-8ad1-0db507b8a3ab  \n",
       "7                 2  ticket-9f7c0906-9729-4568-a559-89d63b634d09  \n",
       "8                 3  ticket-633f4537-50a1-4735-9e70-99bf19be51e4  \n",
       "9                 4  ticket-52e25a0a-06b1-428f-b6a2-479cafc45c16  \n",
       "10                0  ticket-ca767da7-0152-4861-9be6-fbe39b5dd9d8  \n",
       "11                1  ticket-0cd531c6-d81c-4c4c-84c9-9592a8f43e70  \n",
       "12                2  ticket-58bf00bf-d5b8-4d06-9002-f8bf1693cc56  \n",
       "13                3  ticket-67f3cbfb-4b35-4e10-bf6d-3fd216093c3c  \n",
       "14                4  ticket-3f82286d-7e0b-4df5-a491-d9e28f7c94f9  "
      ]
     },
     "execution_count": 58,
     "metadata": {},
     "output_type": "execute_result"
    }
   ],
   "source": [
    "def generate_tickets(title,n_tickets):\n",
    "    tickets = []\n",
    "    for i in range(n_tickets):\n",
    "        ticket_id, ticket_json = generate_twin(\"ticket\",ticket_model_id)\n",
    "        ticket_json['event_title'] = title\n",
    "        ticket_json['state'] = 'open'\n",
    "        ticket_json['ticket_location'] = i\n",
    "        ticket_json['uid'] = f'ticket-{str(uuid.uuid4())}'\n",
    "        tickets.append(ticket_json)\n",
    "    return tickets\n",
    "\n",
    "tickets_df = pd.concat([pd.DataFrame(generate_tickets('Nirvana',5)),\n",
    "          pd.DataFrame(generate_tickets('Smashing Pumpkins',5)),\n",
    "           pd.DataFrame(generate_tickets('Foo Fighters',5))]).reset_index(drop=True)\n",
    "\n",
    "tickets_df"
   ]
  },
  {
   "cell_type": "markdown",
   "metadata": {},
   "source": [
    "Ok now that we know what tickets we want to sell, let's push them to the digital twin ecosystem. This is exactly the same as what we did with `Customers` in step one. "
   ]
  },
  {
   "cell_type": "code",
   "execution_count": 59,
   "metadata": {},
   "outputs": [],
   "source": [
    "ticket_twins = []\n",
    "for i in tickets_df.index:\n",
    "    ticket_data = tickets_df.loc[i]\n",
    "    ticket_twin_id = ticket_data['uid']\n",
    "    ticket_json = ticket_data.drop('uid').to_dict()\n",
    "    created_twin = service_client.upsert_digital_twin(ticket_twin_id, ticket_json)\n",
    "    ticket_twins.append(created_twin)"
   ]
  },
  {
   "cell_type": "code",
   "execution_count": 60,
   "metadata": {},
   "outputs": [
    {
     "data": {
      "text/plain": [
       "[{'$dtId': 'ticket-600f2149-1ed8-4cb4-b0b8-bb6d03f575cd',\n",
       "  '$etag': 'W/\"2b6200cc-0580-48c2-b324-60f56d61b453\"',\n",
       "  'event_title': 'Nirvana',\n",
       "  'state': 'open',\n",
       "  'ticket_location': '0',\n",
       "  '$metadata': {'$model': 'dtmi:billmanh:ticket;1',\n",
       "   'event_title': {'lastUpdateTime': '2020-11-26T20:13:26.0552823Z'},\n",
       "   'state': {'lastUpdateTime': '2020-11-26T20:13:26.0552823Z'},\n",
       "   'ticket_location': {'lastUpdateTime': '2020-11-26T20:13:26.0552823Z'}}},\n",
       " {'$dtId': 'ticket-b8860b9b-cc54-4591-abb3-2abc3adc0800',\n",
       "  '$etag': 'W/\"18f9c633-49f1-48ac-8fba-d4316ddecdda\"',\n",
       "  'event_title': 'Nirvana',\n",
       "  'state': 'open',\n",
       "  'ticket_location': '1',\n",
       "  '$metadata': {'$model': 'dtmi:billmanh:ticket;1',\n",
       "   'event_title': {'lastUpdateTime': '2020-11-26T20:13:26.2078227Z'},\n",
       "   'state': {'lastUpdateTime': '2020-11-26T20:13:26.2078227Z'},\n",
       "   'ticket_location': {'lastUpdateTime': '2020-11-26T20:13:26.2078227Z'}}},\n",
       " {'$dtId': 'ticket-2256b8c9-1dd8-4ef8-a00a-b191dc122532',\n",
       "  '$etag': 'W/\"5f553cb9-40ff-4f65-998f-822de3699116\"',\n",
       "  'event_title': 'Nirvana',\n",
       "  'state': 'open',\n",
       "  'ticket_location': '2',\n",
       "  '$metadata': {'$model': 'dtmi:billmanh:ticket;1',\n",
       "   'event_title': {'lastUpdateTime': '2020-11-26T20:13:26.3816651Z'},\n",
       "   'state': {'lastUpdateTime': '2020-11-26T20:13:26.3816651Z'},\n",
       "   'ticket_location': {'lastUpdateTime': '2020-11-26T20:13:26.3816651Z'}}}]"
      ]
     },
     "execution_count": 60,
     "metadata": {},
     "output_type": "execute_result"
    }
   ],
   "source": [
    "ticket_twins[:3]"
   ]
  },
  {
   "cell_type": "code",
   "execution_count": 190,
   "metadata": {},
   "outputs": [],
   "source": [
    "# for i in tickets_df.index:\n",
    "#     ticket_data = tickets_df.loc[i]\n",
    "#     ticket_twin_id = ticket_data['uid']\n",
    "#     service_client.delete_digital_twin(ticket_twin_id)"
   ]
  },
  {
   "cell_type": "markdown",
   "metadata": {},
   "source": [
    "So now I have `customers` and I have `tickets`, but there is no relationship between them. Let's pretend that I have a website that sells tickets. When a `customer` buys a `ticket` on the website, a relationship between the two is established AND the status of the ticket changes to sold. \n",
    "\n",
    "* website (or mobile app) will tell the user which tickets are still available, and have features that allow them to search by row, or by concert.\n",
    "* the website (or mobile app) gets the latatude and longitude of the user when they buy the tickets. \n",
    "* once purchased, the status of that ticket changes to `sold`. \n"
   ]
  },
  {
   "cell_type": "markdown",
   "metadata": {},
   "source": [
    "# The user experience (mobile app)\n",
    "\n",
    "Here is where the user will buy tickets. \n",
    "\n",
    "This cell is a customer experience. The `customer` enters the website and looks up the available tickets for the show they want. This data comes from the website. "
   ]
  },
  {
   "cell_type": "code",
   "execution_count": 61,
   "metadata": {},
   "outputs": [],
   "source": [
    "# selection from a dropdown menu or something\n",
    "selection_show = 'Nirvana'\n",
    "# just grabbing the first customer. \n",
    "user = df_customers.loc[0]['id']\n",
    "user_lat = np.random.randint(0,100)\n",
    "user_long = np.random.randint(0,100)\n",
    "\n",
    "query_expression = f\"\"\"\n",
    "SELECT * FROM digitaltwins where IS_OF_MODEL('{ticket_model_id}') \n",
    "and state = 'open'\n",
    "and event_title = '{selection_show}'\n",
    "\"\"\"\n",
    "query_result = service_client.query_twins(query_expression)"
   ]
  },
  {
   "cell_type": "markdown",
   "metadata": {},
   "source": [
    "Note that the client dumps records after the query. Try running the cell below a few times. If you need to use the values again and again you need to put them into memory somewhere. "
   ]
  },
  {
   "cell_type": "code",
   "execution_count": 62,
   "metadata": {},
   "outputs": [
    {
     "data": {
      "text/html": [
       "<div>\n",
       "<style scoped>\n",
       "    .dataframe tbody tr th:only-of-type {\n",
       "        vertical-align: middle;\n",
       "    }\n",
       "\n",
       "    .dataframe tbody tr th {\n",
       "        vertical-align: top;\n",
       "    }\n",
       "\n",
       "    .dataframe thead th {\n",
       "        text-align: right;\n",
       "    }\n",
       "</style>\n",
       "<table border=\"1\" class=\"dataframe\">\n",
       "  <thead>\n",
       "    <tr style=\"text-align: right;\">\n",
       "      <th></th>\n",
       "      <th>$dtId</th>\n",
       "      <th>event_title</th>\n",
       "      <th>state</th>\n",
       "    </tr>\n",
       "  </thead>\n",
       "  <tbody>\n",
       "    <tr>\n",
       "      <th>0</th>\n",
       "      <td>ticket-600f2149-1ed8-4cb4-b0b8-bb6d03f575cd</td>\n",
       "      <td>Nirvana</td>\n",
       "      <td>open</td>\n",
       "    </tr>\n",
       "    <tr>\n",
       "      <th>1</th>\n",
       "      <td>ticket-b8860b9b-cc54-4591-abb3-2abc3adc0800</td>\n",
       "      <td>Nirvana</td>\n",
       "      <td>open</td>\n",
       "    </tr>\n",
       "    <tr>\n",
       "      <th>2</th>\n",
       "      <td>ticket-2256b8c9-1dd8-4ef8-a00a-b191dc122532</td>\n",
       "      <td>Nirvana</td>\n",
       "      <td>open</td>\n",
       "    </tr>\n",
       "    <tr>\n",
       "      <th>3</th>\n",
       "      <td>ticket-99023c6e-5d97-4e43-ab08-3d893233c8b0</td>\n",
       "      <td>Nirvana</td>\n",
       "      <td>open</td>\n",
       "    </tr>\n",
       "    <tr>\n",
       "      <th>4</th>\n",
       "      <td>ticket-132839a8-a4a3-4c75-ae96-9ff4085a07d4</td>\n",
       "      <td>Nirvana</td>\n",
       "      <td>open</td>\n",
       "    </tr>\n",
       "  </tbody>\n",
       "</table>\n",
       "</div>"
      ],
      "text/plain": [
       "                                         $dtId event_title state\n",
       "0  ticket-600f2149-1ed8-4cb4-b0b8-bb6d03f575cd     Nirvana  open\n",
       "1  ticket-b8860b9b-cc54-4591-abb3-2abc3adc0800     Nirvana  open\n",
       "2  ticket-2256b8c9-1dd8-4ef8-a00a-b191dc122532     Nirvana  open\n",
       "3  ticket-99023c6e-5d97-4e43-ab08-3d893233c8b0     Nirvana  open\n",
       "4  ticket-132839a8-a4a3-4c75-ae96-9ff4085a07d4     Nirvana  open"
      ]
     },
     "execution_count": 62,
     "metadata": {},
     "output_type": "execute_result"
    }
   ],
   "source": [
    "available_tickets_df = pd.DataFrame([[i['$dtId'],i['event_title'],i['state']] for i in query_result],\n",
    "                                   columns = ['$dtId','event_title','state'])\n",
    "available_tickets_df"
   ]
  },
  {
   "cell_type": "markdown",
   "metadata": {},
   "source": [
    "Now the user chooses to buy a ticket. The ticket state changes to closed."
   ]
  },
  {
   "cell_type": "code",
   "execution_count": 63,
   "metadata": {},
   "outputs": [
    {
     "data": {
      "text/plain": [
       "{'$dtId': 'ticket-600f2149-1ed8-4cb4-b0b8-bb6d03f575cd',\n",
       " '$etag': 'W/\"2b6200cc-0580-48c2-b324-60f56d61b453\"',\n",
       " 'event_title': 'Nirvana',\n",
       " 'state': 'open',\n",
       " 'ticket_location': '0',\n",
       " '$metadata': {'$model': 'dtmi:billmanh:ticket;1',\n",
       "  'event_title': {'lastUpdateTime': '2020-11-26T20:13:26.0552823Z'},\n",
       "  'state': {'lastUpdateTime': '2020-11-26T20:13:26.0552823Z'},\n",
       "  'ticket_location': {'lastUpdateTime': '2020-11-26T20:13:26.0552823Z'}}}"
      ]
     },
     "execution_count": 63,
     "metadata": {},
     "output_type": "execute_result"
    }
   ],
   "source": [
    "customer_selection = available_tickets_df.loc[0]['$dtId']\n",
    "\n",
    "service_client.get_digital_twin(customer_selection)"
   ]
  },
  {
   "cell_type": "code",
   "execution_count": 64,
   "metadata": {},
   "outputs": [],
   "source": [
    "customer_selection = available_tickets_df.loc[0]['$dtId']\n",
    "\n",
    "patch = [\n",
    "    {\n",
    "        \"op\": \"replace\",\n",
    "        \"path\": \"\",\n",
    "        \"value\": \"sold\"\n",
    "    }\n",
    "]\n",
    "service_client.update_component(customer_selection,\"state\", patch)"
   ]
  },
  {
   "cell_type": "markdown",
   "metadata": {},
   "source": [
    "**NOTE** that the path is `\"\"` when the item is at the root of the state."
   ]
  },
  {
   "cell_type": "code",
   "execution_count": 65,
   "metadata": {},
   "outputs": [
    {
     "data": {
      "text/html": [
       "<div>\n",
       "<style scoped>\n",
       "    .dataframe tbody tr th:only-of-type {\n",
       "        vertical-align: middle;\n",
       "    }\n",
       "\n",
       "    .dataframe tbody tr th {\n",
       "        vertical-align: top;\n",
       "    }\n",
       "\n",
       "    .dataframe thead th {\n",
       "        text-align: right;\n",
       "    }\n",
       "</style>\n",
       "<table border=\"1\" class=\"dataframe\">\n",
       "  <thead>\n",
       "    <tr style=\"text-align: right;\">\n",
       "      <th></th>\n",
       "      <th>$dtId</th>\n",
       "      <th>event_title</th>\n",
       "      <th>state</th>\n",
       "    </tr>\n",
       "  </thead>\n",
       "  <tbody>\n",
       "    <tr>\n",
       "      <th>0</th>\n",
       "      <td>ticket-600f2149-1ed8-4cb4-b0b8-bb6d03f575cd</td>\n",
       "      <td>Nirvana</td>\n",
       "      <td>sold</td>\n",
       "    </tr>\n",
       "    <tr>\n",
       "      <th>1</th>\n",
       "      <td>ticket-b8860b9b-cc54-4591-abb3-2abc3adc0800</td>\n",
       "      <td>Nirvana</td>\n",
       "      <td>open</td>\n",
       "    </tr>\n",
       "    <tr>\n",
       "      <th>2</th>\n",
       "      <td>ticket-2256b8c9-1dd8-4ef8-a00a-b191dc122532</td>\n",
       "      <td>Nirvana</td>\n",
       "      <td>open</td>\n",
       "    </tr>\n",
       "    <tr>\n",
       "      <th>3</th>\n",
       "      <td>ticket-99023c6e-5d97-4e43-ab08-3d893233c8b0</td>\n",
       "      <td>Nirvana</td>\n",
       "      <td>open</td>\n",
       "    </tr>\n",
       "    <tr>\n",
       "      <th>4</th>\n",
       "      <td>ticket-132839a8-a4a3-4c75-ae96-9ff4085a07d4</td>\n",
       "      <td>Nirvana</td>\n",
       "      <td>open</td>\n",
       "    </tr>\n",
       "  </tbody>\n",
       "</table>\n",
       "</div>"
      ],
      "text/plain": [
       "                                         $dtId event_title state\n",
       "0  ticket-600f2149-1ed8-4cb4-b0b8-bb6d03f575cd     Nirvana  sold\n",
       "1  ticket-b8860b9b-cc54-4591-abb3-2abc3adc0800     Nirvana  open\n",
       "2  ticket-2256b8c9-1dd8-4ef8-a00a-b191dc122532     Nirvana  open\n",
       "3  ticket-99023c6e-5d97-4e43-ab08-3d893233c8b0     Nirvana  open\n",
       "4  ticket-132839a8-a4a3-4c75-ae96-9ff4085a07d4     Nirvana  open"
      ]
     },
     "execution_count": 65,
     "metadata": {},
     "output_type": "execute_result"
    }
   ],
   "source": [
    "query_expression = f\"\"\"\n",
    "SELECT * FROM digitaltwins where IS_OF_MODEL('{ticket_model_id}') \n",
    "and event_title = '{selection_show}'\n",
    "\"\"\"\n",
    "query_result = service_client.query_twins(query_expression)\n",
    "available_tickets_df = pd.DataFrame([[i['$dtId'],i['event_title'],i['state']] for i in query_result],\n",
    "                                   columns = ['$dtId','event_title','state'])\n",
    "available_tickets_df"
   ]
  },
  {
   "cell_type": "markdown",
   "metadata": {},
   "source": [
    "Relationships: \n",
    "* the target is the leaf (or the customer)\n",
    "* the source is the branch (or the ticket)\n",
    "\n",
    "you can add extra stuff to the relationship. "
   ]
  },
  {
   "cell_type": "code",
   "execution_count": 66,
   "metadata": {},
   "outputs": [
    {
     "name": "stdout",
     "output_type": "stream",
     "text": [
      "ticket-600f2149-1ed8-4cb4-b0b8-bb6d03f575cd\n",
      "customer-cc04f3b6-39b0-4cef-bfff-a7d668cce446\n"
     ]
    }
   ],
   "source": [
    "print(customer_selection)\n",
    "print(user)"
   ]
  },
  {
   "cell_type": "markdown",
   "metadata": {},
   "source": [
    "**Note** that the "
   ]
  },
  {
   "cell_type": "code",
   "execution_count": 67,
   "metadata": {},
   "outputs": [
    {
     "data": {
      "text/plain": [
       "{'$relationshipId': 'ticket-600f2149-1ed8-4cb4-b0b8-bb6d03f575cdownedBycustomer-cc04f3b6-39b0-4cef-bfff-a7d668cce446',\n",
       " '$etag': 'W/\"baa3fc0c-09c5-41e9-8459-b4dc60e9de0d\"',\n",
       " '$sourceId': 'ticket-600f2149-1ed8-4cb4-b0b8-bb6d03f575cd',\n",
       " '$relationshipName': 'ownedBy',\n",
       " '$targetId': 'customer-cc04f3b6-39b0-4cef-bfff-a7d668cce446',\n",
       " 'bought_online': True}"
      ]
     },
     "execution_count": 67,
     "metadata": {},
     "output_type": "execute_result"
    }
   ],
   "source": [
    "tickethoder_relationship = {\n",
    "        \"$relationshipId\": f\"{customer_selection}ownedBy{user}\",\n",
    "        \"$sourceId\": customer_selection,\n",
    "        \"$relationshipName\": \"ownedBy\",\n",
    "        \"$targetId\": user,\n",
    "        \"bought_online\": True\n",
    "    }\n",
    "\n",
    "service_client.upsert_relationship(\n",
    "        tickethoder_relationship[\"$sourceId\"],\n",
    "        tickethoder_relationship[\"$relationshipId\"],\n",
    "        tickethoder_relationship\n",
    "    )"
   ]
  },
  {
   "cell_type": "code",
   "execution_count": 74,
   "metadata": {},
   "outputs": [
    {
     "data": {
      "text/plain": [
       "{'$relationshipId': 'ticket-600f2149-1ed8-4cb4-b0b8-bb6d03f575cdownedBycustomer-cc04f3b6-39b0-4cef-bfff-a7d668cce446',\n",
       " '$etag': 'W/\"baa3fc0c-09c5-41e9-8459-b4dc60e9de0d\"',\n",
       " '$sourceId': 'ticket-600f2149-1ed8-4cb4-b0b8-bb6d03f575cd',\n",
       " '$relationshipName': 'ownedBy',\n",
       " '$targetId': 'customer-cc04f3b6-39b0-4cef-bfff-a7d668cce446',\n",
       " 'bought_online': True}"
      ]
     },
     "execution_count": 74,
     "metadata": {},
     "output_type": "execute_result"
    }
   ],
   "source": [
    "[i for i in service_client.list_relationships(customer_selection)]\n",
    "i"
   ]
  },
  {
   "cell_type": "markdown",
   "metadata": {},
   "source": [
    "Another customer will buy several tickets. "
   ]
  },
  {
   "cell_type": "code",
   "execution_count": 78,
   "metadata": {},
   "outputs": [
    {
     "data": {
      "text/html": [
       "<div>\n",
       "<style scoped>\n",
       "    .dataframe tbody tr th:only-of-type {\n",
       "        vertical-align: middle;\n",
       "    }\n",
       "\n",
       "    .dataframe tbody tr th {\n",
       "        vertical-align: top;\n",
       "    }\n",
       "\n",
       "    .dataframe thead th {\n",
       "        text-align: right;\n",
       "    }\n",
       "</style>\n",
       "<table border=\"1\" class=\"dataframe\">\n",
       "  <thead>\n",
       "    <tr style=\"text-align: right;\">\n",
       "      <th></th>\n",
       "      <th>$dtId</th>\n",
       "      <th>event_title</th>\n",
       "      <th>state</th>\n",
       "    </tr>\n",
       "  </thead>\n",
       "  <tbody>\n",
       "    <tr>\n",
       "      <th>0</th>\n",
       "      <td>ticket-b8860b9b-cc54-4591-abb3-2abc3adc0800</td>\n",
       "      <td>Nirvana</td>\n",
       "      <td>open</td>\n",
       "    </tr>\n",
       "    <tr>\n",
       "      <th>1</th>\n",
       "      <td>ticket-2256b8c9-1dd8-4ef8-a00a-b191dc122532</td>\n",
       "      <td>Nirvana</td>\n",
       "      <td>open</td>\n",
       "    </tr>\n",
       "    <tr>\n",
       "      <th>2</th>\n",
       "      <td>ticket-18663c82-67a2-4791-b1c4-05db261af867</td>\n",
       "      <td>Smashing Pumpkins</td>\n",
       "      <td>open</td>\n",
       "    </tr>\n",
       "    <tr>\n",
       "      <th>3</th>\n",
       "      <td>ticket-99023c6e-5d97-4e43-ab08-3d893233c8b0</td>\n",
       "      <td>Nirvana</td>\n",
       "      <td>open</td>\n",
       "    </tr>\n",
       "    <tr>\n",
       "      <th>4</th>\n",
       "      <td>ticket-132839a8-a4a3-4c75-ae96-9ff4085a07d4</td>\n",
       "      <td>Nirvana</td>\n",
       "      <td>open</td>\n",
       "    </tr>\n",
       "    <tr>\n",
       "      <th>5</th>\n",
       "      <td>ticket-79f3f382-bd65-4788-8ad1-0db507b8a3ab</td>\n",
       "      <td>Smashing Pumpkins</td>\n",
       "      <td>open</td>\n",
       "    </tr>\n",
       "    <tr>\n",
       "      <th>6</th>\n",
       "      <td>ticket-9f7c0906-9729-4568-a559-89d63b634d09</td>\n",
       "      <td>Smashing Pumpkins</td>\n",
       "      <td>open</td>\n",
       "    </tr>\n",
       "    <tr>\n",
       "      <th>7</th>\n",
       "      <td>ticket-633f4537-50a1-4735-9e70-99bf19be51e4</td>\n",
       "      <td>Smashing Pumpkins</td>\n",
       "      <td>open</td>\n",
       "    </tr>\n",
       "    <tr>\n",
       "      <th>8</th>\n",
       "      <td>ticket-52e25a0a-06b1-428f-b6a2-479cafc45c16</td>\n",
       "      <td>Smashing Pumpkins</td>\n",
       "      <td>open</td>\n",
       "    </tr>\n",
       "    <tr>\n",
       "      <th>9</th>\n",
       "      <td>ticket-ca767da7-0152-4861-9be6-fbe39b5dd9d8</td>\n",
       "      <td>Foo Fighters</td>\n",
       "      <td>open</td>\n",
       "    </tr>\n",
       "    <tr>\n",
       "      <th>10</th>\n",
       "      <td>ticket-0cd531c6-d81c-4c4c-84c9-9592a8f43e70</td>\n",
       "      <td>Foo Fighters</td>\n",
       "      <td>open</td>\n",
       "    </tr>\n",
       "    <tr>\n",
       "      <th>11</th>\n",
       "      <td>ticket-58bf00bf-d5b8-4d06-9002-f8bf1693cc56</td>\n",
       "      <td>Foo Fighters</td>\n",
       "      <td>open</td>\n",
       "    </tr>\n",
       "    <tr>\n",
       "      <th>12</th>\n",
       "      <td>ticket-67f3cbfb-4b35-4e10-bf6d-3fd216093c3c</td>\n",
       "      <td>Foo Fighters</td>\n",
       "      <td>open</td>\n",
       "    </tr>\n",
       "    <tr>\n",
       "      <th>13</th>\n",
       "      <td>ticket-3f82286d-7e0b-4df5-a491-d9e28f7c94f9</td>\n",
       "      <td>Foo Fighters</td>\n",
       "      <td>open</td>\n",
       "    </tr>\n",
       "  </tbody>\n",
       "</table>\n",
       "</div>"
      ],
      "text/plain": [
       "                                          $dtId        event_title state\n",
       "0   ticket-b8860b9b-cc54-4591-abb3-2abc3adc0800            Nirvana  open\n",
       "1   ticket-2256b8c9-1dd8-4ef8-a00a-b191dc122532            Nirvana  open\n",
       "2   ticket-18663c82-67a2-4791-b1c4-05db261af867  Smashing Pumpkins  open\n",
       "3   ticket-99023c6e-5d97-4e43-ab08-3d893233c8b0            Nirvana  open\n",
       "4   ticket-132839a8-a4a3-4c75-ae96-9ff4085a07d4            Nirvana  open\n",
       "5   ticket-79f3f382-bd65-4788-8ad1-0db507b8a3ab  Smashing Pumpkins  open\n",
       "6   ticket-9f7c0906-9729-4568-a559-89d63b634d09  Smashing Pumpkins  open\n",
       "7   ticket-633f4537-50a1-4735-9e70-99bf19be51e4  Smashing Pumpkins  open\n",
       "8   ticket-52e25a0a-06b1-428f-b6a2-479cafc45c16  Smashing Pumpkins  open\n",
       "9   ticket-ca767da7-0152-4861-9be6-fbe39b5dd9d8       Foo Fighters  open\n",
       "10  ticket-0cd531c6-d81c-4c4c-84c9-9592a8f43e70       Foo Fighters  open\n",
       "11  ticket-58bf00bf-d5b8-4d06-9002-f8bf1693cc56       Foo Fighters  open\n",
       "12  ticket-67f3cbfb-4b35-4e10-bf6d-3fd216093c3c       Foo Fighters  open\n",
       "13  ticket-3f82286d-7e0b-4df5-a491-d9e28f7c94f9       Foo Fighters  open"
      ]
     },
     "execution_count": 78,
     "metadata": {},
     "output_type": "execute_result"
    }
   ],
   "source": [
    "query_expression = f\"\"\"\n",
    "SELECT * FROM digitaltwins t where IS_OF_MODEL('{ticket_model_id}') \n",
    "and t.state = 'open'\n",
    "\"\"\"\n",
    "query_result = service_client.query_twins(query_expression)\n",
    "available_tickets_df = pd.DataFrame([[i['$dtId'],i['event_title'],i['state']] for i in query_result],\n",
    "                                   columns = ['$dtId','event_title','state'])\n",
    "available_tickets_df"
   ]
  },
  {
   "cell_type": "code",
   "execution_count": 80,
   "metadata": {},
   "outputs": [
    {
     "data": {
      "text/plain": [
       "'customer-25e19268-3433-4f09-afe3-94f466313368'"
      ]
     },
     "execution_count": 80,
     "metadata": {},
     "output_type": "execute_result"
    }
   ],
   "source": [
    "other_user = df_customers.loc[len(df_customers)-1]['id']\n",
    "other_user"
   ]
  },
  {
   "cell_type": "code",
   "execution_count": 81,
   "metadata": {},
   "outputs": [
    {
     "data": {
      "text/html": [
       "<div>\n",
       "<style scoped>\n",
       "    .dataframe tbody tr th:only-of-type {\n",
       "        vertical-align: middle;\n",
       "    }\n",
       "\n",
       "    .dataframe tbody tr th {\n",
       "        vertical-align: top;\n",
       "    }\n",
       "\n",
       "    .dataframe thead th {\n",
       "        text-align: right;\n",
       "    }\n",
       "</style>\n",
       "<table border=\"1\" class=\"dataframe\">\n",
       "  <thead>\n",
       "    <tr style=\"text-align: right;\">\n",
       "      <th></th>\n",
       "      <th>$dtId</th>\n",
       "      <th>event_title</th>\n",
       "      <th>state</th>\n",
       "    </tr>\n",
       "  </thead>\n",
       "  <tbody>\n",
       "    <tr>\n",
       "      <th>0</th>\n",
       "      <td>ticket-b8860b9b-cc54-4591-abb3-2abc3adc0800</td>\n",
       "      <td>Nirvana</td>\n",
       "      <td>open</td>\n",
       "    </tr>\n",
       "    <tr>\n",
       "      <th>1</th>\n",
       "      <td>ticket-2256b8c9-1dd8-4ef8-a00a-b191dc122532</td>\n",
       "      <td>Nirvana</td>\n",
       "      <td>open</td>\n",
       "    </tr>\n",
       "    <tr>\n",
       "      <th>2</th>\n",
       "      <td>ticket-18663c82-67a2-4791-b1c4-05db261af867</td>\n",
       "      <td>Smashing Pumpkins</td>\n",
       "      <td>open</td>\n",
       "    </tr>\n",
       "    <tr>\n",
       "      <th>3</th>\n",
       "      <td>ticket-99023c6e-5d97-4e43-ab08-3d893233c8b0</td>\n",
       "      <td>Nirvana</td>\n",
       "      <td>open</td>\n",
       "    </tr>\n",
       "    <tr>\n",
       "      <th>4</th>\n",
       "      <td>ticket-132839a8-a4a3-4c75-ae96-9ff4085a07d4</td>\n",
       "      <td>Nirvana</td>\n",
       "      <td>open</td>\n",
       "    </tr>\n",
       "    <tr>\n",
       "      <th>5</th>\n",
       "      <td>ticket-79f3f382-bd65-4788-8ad1-0db507b8a3ab</td>\n",
       "      <td>Smashing Pumpkins</td>\n",
       "      <td>open</td>\n",
       "    </tr>\n",
       "    <tr>\n",
       "      <th>6</th>\n",
       "      <td>ticket-9f7c0906-9729-4568-a559-89d63b634d09</td>\n",
       "      <td>Smashing Pumpkins</td>\n",
       "      <td>open</td>\n",
       "    </tr>\n",
       "    <tr>\n",
       "      <th>7</th>\n",
       "      <td>ticket-633f4537-50a1-4735-9e70-99bf19be51e4</td>\n",
       "      <td>Smashing Pumpkins</td>\n",
       "      <td>open</td>\n",
       "    </tr>\n",
       "    <tr>\n",
       "      <th>8</th>\n",
       "      <td>ticket-52e25a0a-06b1-428f-b6a2-479cafc45c16</td>\n",
       "      <td>Smashing Pumpkins</td>\n",
       "      <td>open</td>\n",
       "    </tr>\n",
       "    <tr>\n",
       "      <th>9</th>\n",
       "      <td>ticket-ca767da7-0152-4861-9be6-fbe39b5dd9d8</td>\n",
       "      <td>Foo Fighters</td>\n",
       "      <td>open</td>\n",
       "    </tr>\n",
       "    <tr>\n",
       "      <th>10</th>\n",
       "      <td>ticket-0cd531c6-d81c-4c4c-84c9-9592a8f43e70</td>\n",
       "      <td>Foo Fighters</td>\n",
       "      <td>open</td>\n",
       "    </tr>\n",
       "    <tr>\n",
       "      <th>11</th>\n",
       "      <td>ticket-58bf00bf-d5b8-4d06-9002-f8bf1693cc56</td>\n",
       "      <td>Foo Fighters</td>\n",
       "      <td>open</td>\n",
       "    </tr>\n",
       "    <tr>\n",
       "      <th>12</th>\n",
       "      <td>ticket-67f3cbfb-4b35-4e10-bf6d-3fd216093c3c</td>\n",
       "      <td>Foo Fighters</td>\n",
       "      <td>open</td>\n",
       "    </tr>\n",
       "    <tr>\n",
       "      <th>13</th>\n",
       "      <td>ticket-3f82286d-7e0b-4df5-a491-d9e28f7c94f9</td>\n",
       "      <td>Foo Fighters</td>\n",
       "      <td>open</td>\n",
       "    </tr>\n",
       "  </tbody>\n",
       "</table>\n",
       "</div>"
      ],
      "text/plain": [
       "                                          $dtId        event_title state\n",
       "0   ticket-b8860b9b-cc54-4591-abb3-2abc3adc0800            Nirvana  open\n",
       "1   ticket-2256b8c9-1dd8-4ef8-a00a-b191dc122532            Nirvana  open\n",
       "2   ticket-18663c82-67a2-4791-b1c4-05db261af867  Smashing Pumpkins  open\n",
       "3   ticket-99023c6e-5d97-4e43-ab08-3d893233c8b0            Nirvana  open\n",
       "4   ticket-132839a8-a4a3-4c75-ae96-9ff4085a07d4            Nirvana  open\n",
       "5   ticket-79f3f382-bd65-4788-8ad1-0db507b8a3ab  Smashing Pumpkins  open\n",
       "6   ticket-9f7c0906-9729-4568-a559-89d63b634d09  Smashing Pumpkins  open\n",
       "7   ticket-633f4537-50a1-4735-9e70-99bf19be51e4  Smashing Pumpkins  open\n",
       "8   ticket-52e25a0a-06b1-428f-b6a2-479cafc45c16  Smashing Pumpkins  open\n",
       "9   ticket-ca767da7-0152-4861-9be6-fbe39b5dd9d8       Foo Fighters  open\n",
       "10  ticket-0cd531c6-d81c-4c4c-84c9-9592a8f43e70       Foo Fighters  open\n",
       "11  ticket-58bf00bf-d5b8-4d06-9002-f8bf1693cc56       Foo Fighters  open\n",
       "12  ticket-67f3cbfb-4b35-4e10-bf6d-3fd216093c3c       Foo Fighters  open\n",
       "13  ticket-3f82286d-7e0b-4df5-a491-d9e28f7c94f9       Foo Fighters  open"
      ]
     },
     "execution_count": 81,
     "metadata": {},
     "output_type": "execute_result"
    }
   ],
   "source": [
    "available_tickets_df."
   ]
  },
  {
   "cell_type": "code",
   "execution_count": null,
   "metadata": {},
   "outputs": [],
   "source": []
  }
 ],
 "metadata": {
  "kernelspec": {
   "display_name": "Python (azure_test)",
   "language": "python",
   "name": "azure_test"
  },
  "language_info": {
   "codemirror_mode": {
    "name": "ipython",
    "version": 3
   },
   "file_extension": ".py",
   "mimetype": "text/x-python",
   "name": "python",
   "nbconvert_exporter": "python",
   "pygments_lexer": "ipython3",
   "version": "3.7.7"
  }
 },
 "nbformat": 4,
 "nbformat_minor": 4
}

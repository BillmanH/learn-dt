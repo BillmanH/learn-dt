{
 "cells": [
  {
   "cell_type": "markdown",
   "metadata": {},
   "source": [
    "# Going through the [MSFT documentation on the Python Library for Digital Twin](https://docs.microsoft.com/en-us/python/api/overview/azure/digitaltwins-core-readme-pre?view=azure-python&source=docs)\n",
    "\n",
    "Here are the things I've noticed so far:\n",
    "* MSFT is [aware of a typo in the code](https://github.com/Azure/azure-sdk-for-python/issues/14918)."
   ]
  },
  {
   "cell_type": "code",
   "execution_count": null,
   "metadata": {},
   "outputs": [],
   "source": [
    "# DefaultAzureCredential supports different authentication mechanisms and determines the appropriate credential type based of the environment it is executing in.\n",
    "# It attempts to use multiple credential types in an order until it finds a working credential.\n",
    "\n",
    "# - AZURE_URL: The tenant ID in Azure Active Directory\n",
    "url = os.getenv(\"AZURE_URL\")\n",
    "\n",
    "# DefaultAzureCredential expects the following three environment variables:\n",
    "# - AZURE_TENANT_ID: The tenant ID in Azure Active Directory\n",
    "# - AZURE_CLIENT_ID: The application (client) ID registered in the AAD tenant\n",
    "# - AZURE_CLIENT_SECRET: The client secret for the registered application\n",
    "credential = DefaultAzureCredential()\n",
    "serviceClient = DigitalTwinsClient(url, credential)"
   ]
  }
 ],
 "metadata": {
  "kernelspec": {
   "display_name": "Python (iot)",
   "language": "python",
   "name": "iot"
  },
  "language_info": {
   "codemirror_mode": {
    "name": "ipython",
    "version": 3
   },
   "file_extension": ".py",
   "mimetype": "text/x-python",
   "name": "python",
   "nbconvert_exporter": "python",
   "pygments_lexer": "ipython3",
   "version": "3.7.9"
  }
 },
 "nbformat": 4,
 "nbformat_minor": 4
}

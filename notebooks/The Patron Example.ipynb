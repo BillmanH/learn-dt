{
 "cells": [
  {
   "cell_type": "markdown",
   "metadata": {},
   "source": [
    "# The Patron\n",
    "## An example use case of the Digital Twin"
   ]
  },
  {
   "cell_type": "code",
   "execution_count": 16,
   "metadata": {},
   "outputs": [
    {
     "data": {
      "text/plain": [
       "<azure.digitaltwins.core._digitaltwins_client.DigitalTwinsClient at 0x16c52b95888>"
      ]
     },
     "execution_count": 16,
     "metadata": {},
     "output_type": "execute_result"
    }
   ],
   "source": [
    "from azure.identity import AzureCliCredential\n",
    "from azure.digitaltwins.core import DigitalTwinsClient\n",
    "\n",
    "# using yaml instead of \n",
    "import yaml\n",
    "import uuid\n",
    "\n",
    "# using altair instead of matplotlib for vizuals\n",
    "import altair as alt\n",
    "import numpy as np\n",
    "import pandas as pd\n",
    "\n",
    "\n",
    "azure_cli = AzureCliCredential()\n",
    "service_client = DigitalTwinsClient(\n",
    "    \"home-test-twin.api.wcus.digitaltwins.azure.net\", azure_cli)\n",
    "service_client"
   ]
  },
  {
   "cell_type": "code",
   "execution_count": 2,
   "metadata": {},
   "outputs": [
    {
     "data": {
      "text/plain": [
       "<azure.digitaltwins.core._digitaltwins_client.DigitalTwinsClient at 0x16c516f7908>"
      ]
     },
     "execution_count": 2,
     "metadata": {},
     "output_type": "execute_result"
    }
   ],
   "source": [
    "service_client"
   ]
  },
  {
   "cell_type": "markdown",
   "metadata": {},
   "source": [
    "Loading the model from a local Json file, I'm defining a model for a `Patron`. That's like a `class` that will be used to to make several instances of a customer. "
   ]
  },
  {
   "cell_type": "code",
   "execution_count": 3,
   "metadata": {},
   "outputs": [],
   "source": [
    "patron_model_id = \"dtmi:billmanh:patron;1\""
   ]
  },
  {
   "cell_type": "code",
   "execution_count": 4,
   "metadata": {},
   "outputs": [],
   "source": [
    "# # Delete the model that you don't want. \n",
    "# service_client.delete_model(patron_model_id)\n",
    "\n",
    "# # Create it if you just deleted it.\n",
    "# patron_model_json = yaml.safe_load(open(\"../models/patron.json\"))\n",
    "# service_client.create_models([patron_model_json])"
   ]
  },
  {
   "cell_type": "markdown",
   "metadata": {},
   "source": [
    "Note that the jason must be in a list. This is so that you can deploy several models in a single go."
   ]
  },
  {
   "cell_type": "code",
   "execution_count": 5,
   "metadata": {},
   "outputs": [
    {
     "data": {
      "text/plain": [
       "{'display_name': {'en': 'Patron'},\n",
       " 'description': {'en': 'As an example, contains all of the properties possible in the DTDL.'},\n",
       " 'id': 'dtmi:billmanh:patron;1',\n",
       " 'upload_time': '2020-11-19T02:14:27.21094Z',\n",
       " 'decommissioned': False}"
      ]
     },
     "execution_count": 5,
     "metadata": {},
     "output_type": "execute_result"
    }
   ],
   "source": [
    "# Get the Patron model\n",
    "get_model = service_client.get_model(patron_model_id)\n",
    "get_model.as_dict()"
   ]
  },
  {
   "cell_type": "markdown",
   "metadata": {},
   "source": [
    "In my case I use `customer` as an _instance_ of a model (a _twin_). The only thing to add is the information specific to the twin I want to upload. "
   ]
  },
  {
   "cell_type": "code",
   "execution_count": 6,
   "metadata": {},
   "outputs": [],
   "source": [
    "digital_twin_id = 'customer-' + str(uuid.uuid4())\n",
    "\n",
    "customer_json = {\n",
    "    \"$metadata\": {\n",
    "        \"$model\": patron_model_id\n",
    "    },\n",
    "    \"satisfaction\": 10,\n",
    "    \"totalWaitTime\": 10\n",
    "}\n",
    "\n",
    "created_twin = service_client.upsert_digital_twin(digital_twin_id, customer_json)"
   ]
  },
  {
   "cell_type": "markdown",
   "metadata": {},
   "source": [
    "You can see that the process with the API is pretty simple:\n",
    "* Define a model\n",
    "* Build a twin from that model\n",
    "* Give that model some attributes. "
   ]
  },
  {
   "cell_type": "code",
   "execution_count": 7,
   "metadata": {},
   "outputs": [
    {
     "data": {
      "text/plain": [
       "dict"
      ]
     },
     "execution_count": 7,
     "metadata": {},
     "output_type": "execute_result"
    }
   ],
   "source": [
    "type(created_twin)"
   ]
  },
  {
   "cell_type": "code",
   "execution_count": 8,
   "metadata": {},
   "outputs": [
    {
     "data": {
      "text/plain": [
       "{'$dtId': 'customer-3cbd5e60-957d-44ff-944f-9adb42a20a52',\n",
       " '$etag': 'W/\"ea33ae65-f47c-4116-8e3d-1c6fa61777d6\"',\n",
       " 'satisfaction': 10,\n",
       " 'totalWaitTime': 10,\n",
       " '$metadata': {'$model': 'dtmi:billmanh:patron;1',\n",
       "  'satisfaction': {'lastUpdateTime': '2020-11-19T15:48:13.1057699Z'},\n",
       "  'totalWaitTime': {'lastUpdateTime': '2020-11-19T15:48:13.1057699Z'}}}"
      ]
     },
     "execution_count": 8,
     "metadata": {},
     "output_type": "execute_result"
    }
   ],
   "source": [
    "created_twin"
   ]
  },
  {
   "cell_type": "markdown",
   "metadata": {},
   "source": [
    "So let's create a bunch of people. Let's pretend we have a single room full of a bunch of people that all have simmilar attributes:\n",
    "* `satisfaction` varies from person to person.\n",
    "* `totalWaitTime` is the same at the beginning. \n",
    "\n",
    "the item for the `$metadata` is the model that it will be an instance of. The rest of the items in the dict are the `contents` of the model as you defined it. "
   ]
  },
  {
   "cell_type": "code",
   "execution_count": 13,
   "metadata": {},
   "outputs": [
    {
     "data": {
      "text/plain": [
       "[('customer-5c454e2f-f70b-4352-b75a-958f1a49beba',\n",
       "  {'$metadata': {'$model': 'dtmi:billmanh:patron;1'},\n",
       "   'satisfaction': 7,\n",
       "   'totalWaitTime': 0}),\n",
       " ('customer-26196fee-5ffd-457a-86b7-192a998f3cf2',\n",
       "  {'$metadata': {'$model': 'dtmi:billmanh:patron;1'},\n",
       "   'satisfaction': 9,\n",
       "   'totalWaitTime': 0}),\n",
       " ('customer-e6f49d8a-711b-41c3-9db8-c7ece3dbc32c',\n",
       "  {'$metadata': {'$model': 'dtmi:billmanh:patron;1'},\n",
       "   'satisfaction': 7,\n",
       "   'totalWaitTime': 0}),\n",
       " ('customer-c87adbfa-1c6e-4ea9-9f03-83e3877ef5fc',\n",
       "  {'$metadata': {'$model': 'dtmi:billmanh:patron;1'},\n",
       "   'satisfaction': 8,\n",
       "   'totalWaitTime': 0}),\n",
       " ('customer-21e17d28-76c3-4c04-8df9-396703692a68',\n",
       "  {'$metadata': {'$model': 'dtmi:billmanh:patron;1'},\n",
       "   'satisfaction': 8,\n",
       "   'totalWaitTime': 0})]"
      ]
     },
     "execution_count": 13,
     "metadata": {},
     "output_type": "execute_result"
    }
   ],
   "source": [
    "def create_new_customer():\n",
    "    digital_twin_id = 'customer-' + str(uuid.uuid4())\n",
    "    customer_json = {\n",
    "        \"$metadata\": {\n",
    "            \"$model\": patron_model_id\n",
    "        },\n",
    "        \"satisfaction\": np.random.randint(5,10),\n",
    "        \"totalWaitTime\": 0\n",
    "    }\n",
    "    return digital_twin_id,customer_json\n",
    "    \n",
    "customer_twin_examples = [create_new_customer() for i in range(40)]\n",
    "customer_twin_examples[:5]"
   ]
  },
  {
   "cell_type": "code",
   "execution_count": 22,
   "metadata": {},
   "outputs": [
    {
     "data": {
      "text/html": [
       "\n",
       "<div id=\"altair-viz-f081d4d3577149bb88f3ec23383f1645\"></div>\n",
       "<script type=\"text/javascript\">\n",
       "  (function(spec, embedOpt){\n",
       "    let outputDiv = document.currentScript.previousElementSibling;\n",
       "    if (outputDiv.id !== \"altair-viz-f081d4d3577149bb88f3ec23383f1645\") {\n",
       "      outputDiv = document.getElementById(\"altair-viz-f081d4d3577149bb88f3ec23383f1645\");\n",
       "    }\n",
       "    const paths = {\n",
       "      \"vega\": \"https://cdn.jsdelivr.net/npm//vega@5?noext\",\n",
       "      \"vega-lib\": \"https://cdn.jsdelivr.net/npm//vega-lib?noext\",\n",
       "      \"vega-lite\": \"https://cdn.jsdelivr.net/npm//vega-lite@4.8.1?noext\",\n",
       "      \"vega-embed\": \"https://cdn.jsdelivr.net/npm//vega-embed@6?noext\",\n",
       "    };\n",
       "\n",
       "    function loadScript(lib) {\n",
       "      return new Promise(function(resolve, reject) {\n",
       "        var s = document.createElement('script');\n",
       "        s.src = paths[lib];\n",
       "        s.async = true;\n",
       "        s.onload = () => resolve(paths[lib]);\n",
       "        s.onerror = () => reject(`Error loading script: ${paths[lib]}`);\n",
       "        document.getElementsByTagName(\"head\")[0].appendChild(s);\n",
       "      });\n",
       "    }\n",
       "\n",
       "    function showError(err) {\n",
       "      outputDiv.innerHTML = `<div class=\"error\" style=\"color:red;\">${err}</div>`;\n",
       "      throw err;\n",
       "    }\n",
       "\n",
       "    function displayChart(vegaEmbed) {\n",
       "      vegaEmbed(outputDiv, spec, embedOpt)\n",
       "        .catch(err => showError(`Javascript Error: ${err.message}<br>This usually means there's a typo in your chart specification. See the javascript console for the full traceback.`));\n",
       "    }\n",
       "\n",
       "    if(typeof define === \"function\" && define.amd) {\n",
       "      requirejs.config({paths});\n",
       "      require([\"vega-embed\"], displayChart, err => showError(`Error loading script: ${err.message}`));\n",
       "    } else if (typeof vegaEmbed === \"function\") {\n",
       "      displayChart(vegaEmbed);\n",
       "    } else {\n",
       "      loadScript(\"vega\")\n",
       "        .then(() => loadScript(\"vega-lite\"))\n",
       "        .then(() => loadScript(\"vega-embed\"))\n",
       "        .catch(showError)\n",
       "        .then(() => displayChart(vegaEmbed));\n",
       "    }\n",
       "  })({\"config\": {\"view\": {\"continuousWidth\": 400, \"continuousHeight\": 300}}, \"data\": {\"name\": \"data-5550894ec7db2b3ea851a9058ab41163\"}, \"mark\": \"bar\", \"encoding\": {\"x\": {\"type\": \"quantitative\", \"bin\": true, \"field\": \"satisfaction\"}, \"y\": {\"type\": \"quantitative\", \"aggregate\": \"count\", \"title\": \"# customers\"}}, \"$schema\": \"https://vega.github.io/schema/vega-lite/v4.8.1.json\", \"datasets\": {\"data-5550894ec7db2b3ea851a9058ab41163\": [{\"$metadata\": {\"$model\": \"dtmi:billmanh:patron;1\"}, \"satisfaction\": 7, \"totalWaitTime\": 0}, {\"$metadata\": {\"$model\": \"dtmi:billmanh:patron;1\"}, \"satisfaction\": 9, \"totalWaitTime\": 0}, {\"$metadata\": {\"$model\": \"dtmi:billmanh:patron;1\"}, \"satisfaction\": 7, \"totalWaitTime\": 0}, {\"$metadata\": {\"$model\": \"dtmi:billmanh:patron;1\"}, \"satisfaction\": 8, \"totalWaitTime\": 0}, {\"$metadata\": {\"$model\": \"dtmi:billmanh:patron;1\"}, \"satisfaction\": 8, \"totalWaitTime\": 0}, {\"$metadata\": {\"$model\": \"dtmi:billmanh:patron;1\"}, \"satisfaction\": 6, \"totalWaitTime\": 0}, {\"$metadata\": {\"$model\": \"dtmi:billmanh:patron;1\"}, \"satisfaction\": 8, \"totalWaitTime\": 0}, {\"$metadata\": {\"$model\": \"dtmi:billmanh:patron;1\"}, \"satisfaction\": 8, \"totalWaitTime\": 0}, {\"$metadata\": {\"$model\": \"dtmi:billmanh:patron;1\"}, \"satisfaction\": 5, \"totalWaitTime\": 0}, {\"$metadata\": {\"$model\": \"dtmi:billmanh:patron;1\"}, \"satisfaction\": 9, \"totalWaitTime\": 0}, {\"$metadata\": {\"$model\": \"dtmi:billmanh:patron;1\"}, \"satisfaction\": 9, \"totalWaitTime\": 0}, {\"$metadata\": {\"$model\": \"dtmi:billmanh:patron;1\"}, \"satisfaction\": 9, \"totalWaitTime\": 0}, {\"$metadata\": {\"$model\": \"dtmi:billmanh:patron;1\"}, \"satisfaction\": 5, \"totalWaitTime\": 0}, {\"$metadata\": {\"$model\": \"dtmi:billmanh:patron;1\"}, \"satisfaction\": 7, \"totalWaitTime\": 0}, {\"$metadata\": {\"$model\": \"dtmi:billmanh:patron;1\"}, \"satisfaction\": 5, \"totalWaitTime\": 0}, {\"$metadata\": {\"$model\": \"dtmi:billmanh:patron;1\"}, \"satisfaction\": 9, \"totalWaitTime\": 0}, {\"$metadata\": {\"$model\": \"dtmi:billmanh:patron;1\"}, \"satisfaction\": 5, \"totalWaitTime\": 0}, {\"$metadata\": {\"$model\": \"dtmi:billmanh:patron;1\"}, \"satisfaction\": 8, \"totalWaitTime\": 0}, {\"$metadata\": {\"$model\": \"dtmi:billmanh:patron;1\"}, \"satisfaction\": 9, \"totalWaitTime\": 0}, {\"$metadata\": {\"$model\": \"dtmi:billmanh:patron;1\"}, \"satisfaction\": 7, \"totalWaitTime\": 0}, {\"$metadata\": {\"$model\": \"dtmi:billmanh:patron;1\"}, \"satisfaction\": 9, \"totalWaitTime\": 0}, {\"$metadata\": {\"$model\": \"dtmi:billmanh:patron;1\"}, \"satisfaction\": 8, \"totalWaitTime\": 0}, {\"$metadata\": {\"$model\": \"dtmi:billmanh:patron;1\"}, \"satisfaction\": 8, \"totalWaitTime\": 0}, {\"$metadata\": {\"$model\": \"dtmi:billmanh:patron;1\"}, \"satisfaction\": 9, \"totalWaitTime\": 0}, {\"$metadata\": {\"$model\": \"dtmi:billmanh:patron;1\"}, \"satisfaction\": 6, \"totalWaitTime\": 0}, {\"$metadata\": {\"$model\": \"dtmi:billmanh:patron;1\"}, \"satisfaction\": 6, \"totalWaitTime\": 0}, {\"$metadata\": {\"$model\": \"dtmi:billmanh:patron;1\"}, \"satisfaction\": 9, \"totalWaitTime\": 0}, {\"$metadata\": {\"$model\": \"dtmi:billmanh:patron;1\"}, \"satisfaction\": 6, \"totalWaitTime\": 0}, {\"$metadata\": {\"$model\": \"dtmi:billmanh:patron;1\"}, \"satisfaction\": 7, \"totalWaitTime\": 0}, {\"$metadata\": {\"$model\": \"dtmi:billmanh:patron;1\"}, \"satisfaction\": 7, \"totalWaitTime\": 0}, {\"$metadata\": {\"$model\": \"dtmi:billmanh:patron;1\"}, \"satisfaction\": 9, \"totalWaitTime\": 0}, {\"$metadata\": {\"$model\": \"dtmi:billmanh:patron;1\"}, \"satisfaction\": 5, \"totalWaitTime\": 0}, {\"$metadata\": {\"$model\": \"dtmi:billmanh:patron;1\"}, \"satisfaction\": 7, \"totalWaitTime\": 0}, {\"$metadata\": {\"$model\": \"dtmi:billmanh:patron;1\"}, \"satisfaction\": 8, \"totalWaitTime\": 0}, {\"$metadata\": {\"$model\": \"dtmi:billmanh:patron;1\"}, \"satisfaction\": 7, \"totalWaitTime\": 0}, {\"$metadata\": {\"$model\": \"dtmi:billmanh:patron;1\"}, \"satisfaction\": 5, \"totalWaitTime\": 0}, {\"$metadata\": {\"$model\": \"dtmi:billmanh:patron;1\"}, \"satisfaction\": 8, \"totalWaitTime\": 0}, {\"$metadata\": {\"$model\": \"dtmi:billmanh:patron;1\"}, \"satisfaction\": 7, \"totalWaitTime\": 0}, {\"$metadata\": {\"$model\": \"dtmi:billmanh:patron;1\"}, \"satisfaction\": 6, \"totalWaitTime\": 0}, {\"$metadata\": {\"$model\": \"dtmi:billmanh:patron;1\"}, \"satisfaction\": 7, \"totalWaitTime\": 0}]}}, {\"mode\": \"vega-lite\"});\n",
       "</script>"
      ],
      "text/plain": [
       "alt.Chart(...)"
      ]
     },
     "execution_count": 22,
     "metadata": {},
     "output_type": "execute_result"
    }
   ],
   "source": [
    "customer_df = pd.DataFrame([i[1] for i in customer_twin_examples])\n",
    "\n",
    "alt.Chart(customer_df).mark_bar().encode(\n",
    "    alt.X(\"satisfaction:Q\", bin=True),\n",
    "    alt.Y('count()', title='# customers')\n",
    ").properties()"
   ]
  },
  {
   "cell_type": "markdown",
   "metadata": {},
   "source": [
    "Of course those are just local customer data points. You could imagine that this is information collected at the edge. \n",
    "\n",
    "Now let's upload those people to see them in the cloud. Try to imagine that each customer in the store had an app on thier phone that sent this information to the graph. Each `customer` represents a datafeed from IoT telemetry. Generally each device would upload a separate feed of IoT, but we are simulating using a single device (your computer) to upload this data. "
   ]
  },
  {
   "cell_type": "code",
   "execution_count": 24,
   "metadata": {},
   "outputs": [],
   "source": [
    "for i in customer_twin_examples:\n",
    "    service_client.upsert_digital_twin(i[0], i[1])"
   ]
  },
  {
   "cell_type": "markdown",
   "metadata": {},
   "source": [
    "Now let's query our customers to see how they are feeling. "
   ]
  },
  {
   "cell_type": "code",
   "execution_count": 26,
   "metadata": {},
   "outputs": [],
   "source": [
    "query_expression = 'SELECT * FROM digitaltwins'\n",
    "query_result = service_client.query_twins(query_expression)"
   ]
  },
  {
   "cell_type": "code",
   "execution_count": 28,
   "metadata": {},
   "outputs": [],
   "source": [
    "for i in query_result:\n",
    "    pass"
   ]
  },
  {
   "cell_type": "code",
   "execution_count": 29,
   "metadata": {},
   "outputs": [
    {
     "data": {
      "text/plain": [
       "{'$dtId': 'customer-2e551c55-265a-46e0-a84b-4965bc734e21',\n",
       " '$etag': 'W/\"8f1be988-70af-4488-a7c9-5403a4b6ea1d\"',\n",
       " 'satisfaction': 9,\n",
       " 'totalWaitTime': 0,\n",
       " '$metadata': {'$model': 'dtmi:billmanh:patron;1',\n",
       "  'satisfaction': {'lastUpdateTime': '2020-11-19T16:13:44.9882083Z'},\n",
       "  'totalWaitTime': {'lastUpdateTime': '2020-11-19T16:13:44.9882083Z'}}}"
      ]
     },
     "execution_count": 29,
     "metadata": {},
     "output_type": "execute_result"
    }
   ],
   "source": [
    "i"
   ]
  },
  {
   "cell_type": "markdown",
   "metadata": {},
   "source": [
    "But let's say I've got an application that just reports the overal customer satisfaction from an app."
   ]
  },
  {
   "cell_type": "code",
   "execution_count": null,
   "metadata": {},
   "outputs": [],
   "source": []
  }
 ],
 "metadata": {
  "kernelspec": {
   "display_name": "Python (azure_test)",
   "language": "python",
   "name": "azure_test"
  },
  "language_info": {
   "codemirror_mode": {
    "name": "ipython",
    "version": 3
   },
   "file_extension": ".py",
   "mimetype": "text/x-python",
   "name": "python",
   "nbconvert_exporter": "python",
   "pygments_lexer": "ipython3",
   "version": "3.7.7"
  }
 },
 "nbformat": 4,
 "nbformat_minor": 4
}
